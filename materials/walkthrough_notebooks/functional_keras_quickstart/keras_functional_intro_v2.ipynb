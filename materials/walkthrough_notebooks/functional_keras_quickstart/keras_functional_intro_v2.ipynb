{
 "cells": [
  {
   "cell_type": "markdown",
   "metadata": {},
   "source": [
    "# Learning the Keras functional API \n",
    "\n",
    "<a id = 'top'></a>\n",
    "\n",
    "  * A. [Intro to Functional API](#introToFunctionalKeras) \n",
    "  * B. [A word about word embeddings](#wordAboutEmbeddings)\n",
    "  * C. [Description of our dataset](#datasetDescription) \n",
    "  * D. [Let's Build our functional model](#buildModel)\n",
    "  * E. [Let's Train and Evaluate our model](#trainModel)\n",
    "  * F. [Considerations for further exploration](#furtherExploration)"
   ]
  },
  {
   "cell_type": "markdown",
   "metadata": {},
   "source": [
    "<a id = 'introToFunctionalKeras'></a>\n",
    "## A. Intro to Functional API\n",
    "The Keras functional syntax for models is only slightly different from the sequential syntax.  It is an intuitive way to build up model graphs.  In return it offers much greater flexibility, allowing multiple connections from arbitrary layers to other layers.  \n",
    "\n",
    "It is referred to as \"functional\" since you use layers as functions called on input nodes to create output nodes.  A good place to start is the [Keras functional documentation](https://keras.io/guides/functional_api/)\n",
    "\n",
    "Many of the more advanced deep-learning networks you will learn about require layer connections which are not strictly sequential; therefore we will mostly use the functional syntax moving forward.\n",
    "\n",
    "This notebook gives you a sense of how to use the functional syntax to create a network, even though our example model will end up being one where layers are consecutively connected.\n",
    "\n",
    "[Go to Top](#top)"
   ]
  },
  {
   "cell_type": "code",
   "execution_count": 1,
   "metadata": {},
   "outputs": [
    {
     "name": "stderr",
     "output_type": "stream",
     "text": [
      "/home/mhbutler/anaconda3/lib/python3.8/site-packages/gensim/similarities/__init__.py:15: UserWarning: The gensim.similarities.levenshtein submodule is disabled, because the optional Levenshtein package <https://pypi.org/project/python-Levenshtein/> is unavailable. Install Levenhstein (e.g. `pip install python-Levenshtein`) to suppress this warning.\n",
      "  warnings.warn(msg)\n"
     ]
    }
   ],
   "source": [
    "import nltk\n",
    "from nltk.corpus import brown\n",
    "from nltk.data import find\n",
    "\n",
    "#VERY IMPORTANT - the gensim code here requires gensim==4.0.1.\n",
    "#make sure you pip install that version of the code.  This will be updated in the future.\n",
    "import gensim\n",
    "\n",
    "import numpy as np"
   ]
  },
  {
   "cell_type": "markdown",
   "metadata": {},
   "source": [
    "<a id = 'wordAboutEmbeddings'></a>\n",
    "## B. A word about word embeddings\n",
    "\n",
    "This example will use pre-trained word embeddings from [nltk / gensim](https://github.com/nltk/nltk/blob/develop/nltk/test/gensim.doctest) \n",
    "\n",
    "You will have more chance to work with embedding vectors in a later homework.  If you haven't been exposed to word embeddings (like \"word2vec\") think of embeddings as a way to represent word meaning in geometric space, allowing us to do things like compare word similarities using vector operations like dot products.  For now, we'll use the word2vec pre-trained model to create an embedding layer for our classifier model.\n",
    "\n",
    "[Go to Top](#top)"
   ]
  },
  {
   "cell_type": "code",
   "execution_count": 2,
   "metadata": {},
   "outputs": [
    {
     "name": "stderr",
     "output_type": "stream",
     "text": [
      "[nltk_data] Downloading package word2vec_sample to\n",
      "[nltk_data]     /home/mhbutler/nltk_data...\n",
      "[nltk_data]   Package word2vec_sample is already up-to-date!\n"
     ]
    },
    {
     "name": "stdout",
     "output_type": "stream",
     "text": [
      "The length of gensim embedding vocabulary : 43981\n",
      "Length d of embedding vectors : 300\n",
      "The shape of our embedding matrix is (43982, 300)\n"
     ]
    }
   ],
   "source": [
    "# Download NLTK's sample word2vec embeddings\n",
    "\n",
    "nltk.download('word2vec_sample')\n",
    "\n",
    "word2vec_sample = str(find('models/word2vec_sample/pruned.word2vec.txt'))\n",
    "\n",
    "embmod = gensim.models.KeyedVectors.load_word2vec_format(word2vec_sample, binary=False)\n",
    "print('The length of gensim embedding vocabulary : {}'.format(len(embmod)))\n",
    "EMBEDDING_DIM = len(embmod['university'])\n",
    "print('Length d of embedding vectors : {}'.format(EMBEDDING_DIM))\n",
    "\n",
    "# initialize embedding matrix and word-to-id map:\n",
    "embedding_matrix = np.zeros((len(embmod) + 1, EMBEDDING_DIM))       \n",
    "vocab_dict = {}\n",
    "\n",
    "# build the embedding matrix and the word-to-id map:\n",
    "for i, word in enumerate(embmod.key_to_index.keys()):\n",
    "    embedding_vector = embmod[word]\n",
    "    if embedding_vector is not None:\n",
    "        # words not found in embedding index will be all-zeros.\n",
    "        embedding_matrix[i] = embedding_vector\n",
    "        vocab_dict[word] = i\n",
    "\n",
    "print('The shape of our embedding matrix is {}'.format(embedding_matrix.shape))"
   ]
  },
  {
   "cell_type": "markdown",
   "metadata": {},
   "source": [
    "<a id = 'datasetDescription'></a>\n",
    "## C. Description of our dataset\n",
    "\n",
    "We will create a classifier model on the [large movie review dataset from Stanford AI Lab](https://ai.stanford.edu/~amaas/data/sentiment/). \n",
    "\n",
    "This dataset was used in the paper:  \n",
    "[Learning Word Vectors for Sentiment Analysis by Andrew L. Maas, Raymond E. Daly, Peter T. Pham, Dan Huang, Andrew Y. Ng, Christopher Potts from the Jun 2011 issue of ACL.](https://www.aclweb.org/anthology/P11-1015.pdf)  \n",
    "\n",
    "The dataset training samples are split between:\n",
    "  * \"negative\" movie reviews, with ratings in the range (1,2,3,4) and \n",
    "  * \"positive reviews in the range of (7,8,9,10).\n",
    " \n",
    "We will re-group the ratings into 2 \"negative\" groups and 2 \"positive\" groups, to make our classification task a bit easier.\n",
    "\n",
    "[Go to Top](#top)"
   ]
  },
  {
   "cell_type": "code",
   "execution_count": 3,
   "metadata": {},
   "outputs": [
    {
     "name": "stdout",
     "output_type": "stream",
     "text": [
      "Finished downloading file\n",
      "Finished untar-ing file\n",
      "Our unique class labels are: [0 1 2 3]\n"
     ]
    }
   ],
   "source": [
    "# Download the dataset\n",
    "import requests\n",
    "url = 'https://ai.stanford.edu/~amaas/data/sentiment/aclImdb_v1.tar.gz'\n",
    "r = requests.get(url, allow_redirects=True)\n",
    "print('Finished downloading file')\n",
    "open('aclImdb_v1.tar.gz', 'wb').write(r.content)\n",
    "\n",
    "# Untar the downloaded file\n",
    "!tar xfz aclImdb_v1.tar.gz\n",
    "print('Finished untar-ing file')\n",
    "\n",
    "input_length = 100\n",
    "import os\n",
    "import re\n",
    "pos_directory = \"./aclImdb/train/pos/\"\n",
    "neg_directory = \"./aclImdb/train/neg/\"\n",
    "\n",
    "# The original labels are negative in [1,2,3,4] and 'positive in [7,8,9,10]'\n",
    "# To simplify our classification let's reduce the number of classes by remapping ratings:\n",
    "#     Map labels to new labels\n",
    "#      1, 2  map to 0\n",
    "#      3, 4 map to 1\n",
    "#      7, 8  map to 2\n",
    "#      9, 10 map to 3\n",
    "maplabels = {\"1\" : 0, \"2\" : 0, \n",
    "             \"3\" : 1, \"4\" : 1,\n",
    "             \"7\" : 2, \"8\" : 2,\n",
    "             \"9\" : 3, \"10\" : 3}\n",
    "\n",
    "# Create pos and neg training samples by tokenizing the first 100 words from each review\n",
    "pos_samples = []\n",
    "pos_labels = []\n",
    "\n",
    "pat = re.compile('\\d+_(\\d+).txt')\n",
    "for file in os.listdir(pos_directory):\n",
    "    with open(pos_directory + file, 'r') as fh:\n",
    "        review = fh.readline().split()\n",
    "        if len(review) < input_length:\n",
    "            whole = int(input_length / len(review) )\n",
    "            leftover = len(review) % input_length\n",
    "            review = review * whole + review[:leftover]\n",
    "        tokens = [vocab_dict.get(word, 43981) for word in review[:input_length]] # only take the first input_length words\n",
    "        pos_samples.append(tokens)\n",
    "        label = pat.sub(r'\\1', file) # Extract label from filename\n",
    "        pos_labels.append(maplabels[label])\n",
    "        \n",
    "neg_samples = []\n",
    "neg_labels = []\n",
    "for file in os.listdir(neg_directory):\n",
    "    with open(neg_directory + file, 'r') as fh:\n",
    "        review = fh.readline().split()\n",
    "        if len(review) < input_length:\n",
    "            whole = int(input_length / len(review) )\n",
    "            leftover = len(review) % input_length\n",
    "            review = review * whole + review[:leftover]\n",
    "        tokens = [vocab_dict.get(word, 43981) for word in review[:input_length]]\n",
    "        neg_samples.append(tokens)\n",
    "        label = pat.sub(r'\\1', file) # Extract label from filename\n",
    "        neg_labels.append(maplabels[label])\n",
    "        \n",
    "# Create x samples and labels\n",
    "from sklearn.model_selection import train_test_split\n",
    "\n",
    "xsamples = pos_samples + neg_samples # combine lists\n",
    "# labels = [1] * len(pos_samples) + [0] * len(neg_samples)\n",
    "labels = pos_labels + neg_labels\n",
    "\n",
    "# Repackage as numpy arrays\n",
    "xsamples = np.array(xsamples)\n",
    "labels = np.array(labels).reshape([-1,1]) # Labels must have at least one column\n",
    "\n",
    "# Create training, eval split\n",
    "train_input, test_input, train_labels, test_labels = train_test_split(xsamples, labels, test_size = 0.2, \n",
    "                                                         random_state = 41,\n",
    "                                                         shuffle = True)\n",
    "\n",
    "# Investigate the unique class \"levels\"\n",
    "print('Our unique class labels are: {}'.format(np.unique(labels)))\n"
   ]
  },
  {
   "cell_type": "code",
   "execution_count": 4,
   "metadata": {},
   "outputs": [
    {
     "data": {
      "text/plain": [
       "array([15402,  9357, 12457, 16915, 14193, 43981, 22073, 36633, 10616,\n",
       "       40724,  4123, 43981, 30968, 40724, 13877, 22793,   428, 36633,\n",
       "       10616, 14500, 14193, 34710, 43981, 43981, 43981, 12292, 27193,\n",
       "       12292, 21908, 39649,  9549, 33792, 12292, 36397, 37673, 43981,\n",
       "       43981, 43981, 43981,   265, 43981, 35029, 34710, 43981, 17595,\n",
       "       35058,  9549, 16908,  8092, 18560, 36945, 30736, 43981, 38341,\n",
       "       43981, 43981, 11511, 43981, 43981, 15402,  6416, 28349, 16030,\n",
       "       39090,   931, 25272, 14193, 43981, 43981, 43981, 43981, 43981,\n",
       "       43981, 43981, 14775,  9325, 43981, 11249, 36633, 16908, 43981,\n",
       "         846, 33522, 11511, 14193,   638, 43981, 43981, 43981, 43981,\n",
       "        3665, 33522, 43981, 38177, 43981, 42045, 19666, 16915, 35101,\n",
       "        8243])"
      ]
     },
     "execution_count": 4,
     "metadata": {},
     "output_type": "execute_result"
    }
   ],
   "source": [
    "train_input[0]"
   ]
  },
  {
   "cell_type": "code",
   "execution_count": 5,
   "metadata": {},
   "outputs": [
    {
     "name": "stdout",
     "output_type": "stream",
     "text": [
      "Number of training samples = 20000\n",
      "class 0 has 5868 samples (29.34%)\n",
      "class 1 has 4126 samples (20.63%)\n",
      "class 2 has 4375 samples (21.88%)\n",
      "class 3 has 5631 samples (28.16%)\n",
      "\n",
      "Number of test samples = 5000\n",
      "class 0 has 1516 samples (30.32%)\n",
      "class 1 has 990 samples (19.80%)\n",
      "class 2 has 1130 samples (22.60%)\n",
      "class 3 has 1364 samples (27.28%)\n"
     ]
    }
   ],
   "source": [
    "# Let's look for possible class imbalance\n",
    "ltrain = len(train_labels)\n",
    "print('Number of training samples = {}'.format(ltrain))\n",
    "for i in range(4):\n",
    "    nclass = len(np.where(train_labels.reshape([-1]) == i)[0])\n",
    "    print('class ' + str(i) + ' has {} samples ({:.2f}%)'.format(nclass, 100 * float(nclass / ltrain )))\n",
    "\n",
    "print()\n",
    "ltest = len(test_labels)\n",
    "print('Number of test samples = {}'.format(ltest))\n",
    "for i in range(4):\n",
    "    nclass = len(np.where(test_labels.reshape([-1]) == i)[0])\n",
    "    print('class ' + str(i) + ' has {} samples ({:.2f}%)'.format(nclass, 100 * float(nclass / ltest )))"
   ]
  },
  {
   "cell_type": "markdown",
   "metadata": {},
   "source": [
    "<a id = 'buildModel'></a>\n",
    "## D. Let's build our functional model\n",
    "Building up a graph involves using layers as functions and calling those functions on input tensors to create output tensors, which then can be used to feed other layers.\n",
    "\n",
    "For example, you can create an input and output connection using a dense layer by doing the following:\n",
    "\n",
    "  * x = Dense(50, activation='relu')(x)\n",
    "\n",
    "or by declaring the layer separately and calling that layer as a function with input, x:\n",
    "\n",
    "  * dlayer = Dense(50, activation='relu')  \n",
    "  * x = dlayer(x)\n",
    "\n",
    "In the second representation, you can see that layer instances resemble functions called on graph nodes."
   ]
  },
  {
   "cell_type": "code",
   "execution_count": 6,
   "metadata": {},
   "outputs": [],
   "source": [
    "import tensorflow as tf\n",
    "from tensorflow.keras.layers import Embedding, Input, Dense, Lambda\n",
    "from tensorflow.keras.models import Model\n",
    "import tensorflow.keras.backend as K\n",
    "\n",
    "#  Package our word2vec embedding model as a fixed pre-trained embedding.\n",
    "#  Note we set the argument \"trainable\" to False as we don't want to modify our pre-trained\n",
    "#  ...embedding values during model training.\n",
    "\n",
    "embedding_layer = Embedding(embedding_matrix.shape[0],\n",
    "                            embedding_matrix.shape[1],\n",
    "                            embeddings_initializer=tf.keras.initializers.Constant(embedding_matrix),\n",
    "                            # input_length=input_length,\n",
    "                            trainable=False)\n",
    "\n",
    "# Note that \"trainable\" is set to False, since we want our classifier model to leave embedding vectors alone during training."
   ]
  },
  {
   "cell_type": "markdown",
   "metadata": {},
   "source": [
    "Now that we've created our first embedding layer, let's build the model adding other layers using the **Functional API**: "
   ]
  },
  {
   "cell_type": "code",
   "execution_count": 7,
   "metadata": {},
   "outputs": [],
   "source": [
    "# Choose a word length to truncate each movie review\n",
    "input_length = 100\n",
    "\n",
    "# Define an input using our input fixed number of words per review sample\n",
    "input_x = Input(shape = (input_length,), name=\"input_words\")\n",
    "\n",
    "# Apply embeddings to each word input\n",
    "x1 = embedding_layer(input_x) \n",
    "\n",
    "# Use Keras lambda function layer to take the mean of the 100 word vectors\n",
    "x2 = tf.keras.layers.Lambda(lambda x: K.mean(x, axis=1))(x1)    # average of embedding vectors\n",
    "\n",
    "# Continue building the network graph                                \n",
    "x3 = Dense(50, activation='relu', name=\"hidden1\")(x2)   # hidden layer\n",
    "x4 = Dense(20, activation='relu', name=\"hidden2\")(x3)   # hidden layer\n",
    "\n",
    "# Our final output classifier layer.  It has 4 outputs (one for each class)\n",
    "# Because this is a multi-class output we'll use softmax as an activation.\n",
    "# We want the predictor outputs to always sum to 1 to represent probability.\n",
    "yhat = Dense(4, activation='softmax', name=\"output\")(x4)   # classification layer\n",
    "\n",
    "# Define the model\n",
    "model = Model(inputs=input_x, outputs=yhat, name=\"keras_func_model\")\n",
    "\n",
    "# Compile the model\n",
    "model.compile(optimizer='adam', \n",
    "              loss='sparse_categorical_crossentropy', \n",
    "              metrics = ['sparse_categorical_accuracy'])"
   ]
  },
  {
   "cell_type": "markdown",
   "metadata": {},
   "source": [
    "**Review the output layers, output dimensions, number of weights**"
   ]
  },
  {
   "cell_type": "markdown",
   "metadata": {},
   "source": [
    "Let's see whether our dimension discussion was correct. Print a model summary:"
   ]
  },
  {
   "cell_type": "code",
   "execution_count": 8,
   "metadata": {},
   "outputs": [
    {
     "name": "stdout",
     "output_type": "stream",
     "text": [
      "Model: \"keras_func_model\"\n",
      "_________________________________________________________________\n",
      "Layer (type)                 Output Shape              Param #   \n",
      "=================================================================\n",
      "input_words (InputLayer)     [(None, 100)]             0         \n",
      "_________________________________________________________________\n",
      "embedding (Embedding)        (None, 100, 300)          13194600  \n",
      "_________________________________________________________________\n",
      "lambda (Lambda)              (None, 300)               0         \n",
      "_________________________________________________________________\n",
      "hidden1 (Dense)              (None, 50)                15050     \n",
      "_________________________________________________________________\n",
      "hidden2 (Dense)              (None, 20)                1020      \n",
      "_________________________________________________________________\n",
      "output (Dense)               (None, 4)                 84        \n",
      "=================================================================\n",
      "Total params: 13,210,754\n",
      "Trainable params: 16,154\n",
      "Non-trainable params: 13,194,600\n",
      "_________________________________________________________________\n"
     ]
    }
   ],
   "source": [
    "model.summary()"
   ]
  },
  {
   "cell_type": "markdown",
   "metadata": {},
   "source": [
    "<a id = 'trainModel'></a>\n",
    "## E. Let's Train and Evaluate our model\n",
    "\n",
    "[Return to Top](#top)"
   ]
  },
  {
   "cell_type": "code",
   "execution_count": 9,
   "metadata": {},
   "outputs": [
    {
     "name": "stdout",
     "output_type": "stream",
     "text": [
      "Epoch 1/50\n",
      "40/40 [==============================] - 4s 87ms/step - loss: 1.3788 - sparse_categorical_accuracy: 0.3176 - val_loss: 1.3668 - val_sparse_categorical_accuracy: 0.3750\n",
      "Epoch 2/50\n",
      "40/40 [==============================] - 3s 77ms/step - loss: 1.3633 - sparse_categorical_accuracy: 0.3761 - val_loss: 1.3497 - val_sparse_categorical_accuracy: 0.3790\n",
      "Epoch 3/50\n",
      "40/40 [==============================] - 3s 77ms/step - loss: 1.3421 - sparse_categorical_accuracy: 0.3860 - val_loss: 1.3218 - val_sparse_categorical_accuracy: 0.3850\n",
      "Epoch 4/50\n",
      "40/40 [==============================] - 3s 76ms/step - loss: 1.3080 - sparse_categorical_accuracy: 0.4002 - val_loss: 1.2867 - val_sparse_categorical_accuracy: 0.4105\n",
      "Epoch 5/50\n",
      "40/40 [==============================] - 3s 76ms/step - loss: 1.2675 - sparse_categorical_accuracy: 0.4291 - val_loss: 1.2501 - val_sparse_categorical_accuracy: 0.4250\n",
      "Epoch 6/50\n",
      "40/40 [==============================] - 3s 76ms/step - loss: 1.2307 - sparse_categorical_accuracy: 0.4446 - val_loss: 1.2098 - val_sparse_categorical_accuracy: 0.4518\n",
      "Epoch 7/50\n",
      "40/40 [==============================] - 3s 76ms/step - loss: 1.1975 - sparse_categorical_accuracy: 0.4611 - val_loss: 1.1835 - val_sparse_categorical_accuracy: 0.4670\n",
      "Epoch 8/50\n",
      "40/40 [==============================] - 3s 76ms/step - loss: 1.1682 - sparse_categorical_accuracy: 0.4767 - val_loss: 1.1617 - val_sparse_categorical_accuracy: 0.4755\n",
      "Epoch 9/50\n",
      "40/40 [==============================] - 3s 77ms/step - loss: 1.1503 - sparse_categorical_accuracy: 0.4829 - val_loss: 1.1490 - val_sparse_categorical_accuracy: 0.4757\n",
      "Epoch 10/50\n",
      "40/40 [==============================] - 3s 77ms/step - loss: 1.1318 - sparse_categorical_accuracy: 0.4893 - val_loss: 1.1385 - val_sparse_categorical_accuracy: 0.4840\n",
      "Epoch 11/50\n",
      "40/40 [==============================] - 3s 77ms/step - loss: 1.1257 - sparse_categorical_accuracy: 0.5029 - val_loss: 1.1324 - val_sparse_categorical_accuracy: 0.4852\n",
      "Epoch 12/50\n",
      "40/40 [==============================] - 3s 77ms/step - loss: 1.1185 - sparse_categorical_accuracy: 0.4987 - val_loss: 1.1245 - val_sparse_categorical_accuracy: 0.4910\n",
      "Epoch 13/50\n",
      "40/40 [==============================] - 3s 77ms/step - loss: 1.1070 - sparse_categorical_accuracy: 0.5080 - val_loss: 1.1184 - val_sparse_categorical_accuracy: 0.4970\n",
      "Epoch 14/50\n",
      "40/40 [==============================] - 3s 77ms/step - loss: 1.1048 - sparse_categorical_accuracy: 0.5125 - val_loss: 1.1141 - val_sparse_categorical_accuracy: 0.5020\n",
      "Epoch 15/50\n",
      "40/40 [==============================] - 3s 76ms/step - loss: 1.1053 - sparse_categorical_accuracy: 0.5104 - val_loss: 1.1103 - val_sparse_categorical_accuracy: 0.4992\n",
      "Epoch 16/50\n",
      "40/40 [==============================] - 3s 77ms/step - loss: 1.0922 - sparse_categorical_accuracy: 0.5201 - val_loss: 1.1096 - val_sparse_categorical_accuracy: 0.5040\n",
      "Epoch 17/50\n",
      "40/40 [==============================] - 3s 77ms/step - loss: 1.0925 - sparse_categorical_accuracy: 0.5073 - val_loss: 1.1112 - val_sparse_categorical_accuracy: 0.5035\n",
      "Epoch 18/50\n",
      "40/40 [==============================] - 3s 76ms/step - loss: 1.0937 - sparse_categorical_accuracy: 0.5120 - val_loss: 1.1048 - val_sparse_categorical_accuracy: 0.5010\n",
      "Epoch 19/50\n",
      "40/40 [==============================] - 3s 77ms/step - loss: 1.1011 - sparse_categorical_accuracy: 0.5077 - val_loss: 1.1022 - val_sparse_categorical_accuracy: 0.5107\n",
      "Epoch 20/50\n",
      "40/40 [==============================] - 3s 77ms/step - loss: 1.0857 - sparse_categorical_accuracy: 0.5197 - val_loss: 1.1062 - val_sparse_categorical_accuracy: 0.5033\n",
      "Epoch 21/50\n",
      "40/40 [==============================] - 3s 77ms/step - loss: 1.0823 - sparse_categorical_accuracy: 0.5217 - val_loss: 1.0983 - val_sparse_categorical_accuracy: 0.5113\n",
      "Epoch 22/50\n",
      "40/40 [==============================] - 3s 77ms/step - loss: 1.0732 - sparse_categorical_accuracy: 0.5285 - val_loss: 1.0959 - val_sparse_categorical_accuracy: 0.5135\n",
      "Epoch 23/50\n",
      "40/40 [==============================] - 3s 78ms/step - loss: 1.0805 - sparse_categorical_accuracy: 0.5201 - val_loss: 1.0938 - val_sparse_categorical_accuracy: 0.5135\n",
      "Epoch 24/50\n",
      "40/40 [==============================] - 3s 78ms/step - loss: 1.0789 - sparse_categorical_accuracy: 0.5215 - val_loss: 1.0947 - val_sparse_categorical_accuracy: 0.5155\n",
      "Epoch 25/50\n",
      "40/40 [==============================] - 3s 78ms/step - loss: 1.0778 - sparse_categorical_accuracy: 0.5210 - val_loss: 1.0931 - val_sparse_categorical_accuracy: 0.5170\n",
      "Epoch 26/50\n",
      "40/40 [==============================] - 3s 78ms/step - loss: 1.0708 - sparse_categorical_accuracy: 0.5292 - val_loss: 1.0927 - val_sparse_categorical_accuracy: 0.5163\n",
      "Epoch 27/50\n",
      "40/40 [==============================] - 3s 77ms/step - loss: 1.0779 - sparse_categorical_accuracy: 0.5203 - val_loss: 1.0926 - val_sparse_categorical_accuracy: 0.5140\n",
      "Epoch 28/50\n",
      "40/40 [==============================] - 3s 77ms/step - loss: 1.0661 - sparse_categorical_accuracy: 0.5289 - val_loss: 1.0896 - val_sparse_categorical_accuracy: 0.5197\n",
      "Epoch 29/50\n",
      "40/40 [==============================] - 3s 77ms/step - loss: 1.0688 - sparse_categorical_accuracy: 0.5262 - val_loss: 1.0950 - val_sparse_categorical_accuracy: 0.5165\n",
      "Epoch 30/50\n",
      "40/40 [==============================] - 3s 78ms/step - loss: 1.0680 - sparse_categorical_accuracy: 0.5283 - val_loss: 1.0884 - val_sparse_categorical_accuracy: 0.5175\n",
      "Epoch 31/50\n",
      "40/40 [==============================] - 3s 77ms/step - loss: 1.0706 - sparse_categorical_accuracy: 0.5228 - val_loss: 1.0911 - val_sparse_categorical_accuracy: 0.5232\n",
      "Epoch 32/50\n",
      "40/40 [==============================] - 3s 77ms/step - loss: 1.0576 - sparse_categorical_accuracy: 0.5313 - val_loss: 1.0885 - val_sparse_categorical_accuracy: 0.5205\n",
      "Epoch 33/50\n",
      "40/40 [==============================] - 3s 78ms/step - loss: 1.0650 - sparse_categorical_accuracy: 0.5318 - val_loss: 1.0863 - val_sparse_categorical_accuracy: 0.5203\n",
      "Epoch 34/50\n",
      "40/40 [==============================] - 3s 78ms/step - loss: 1.0596 - sparse_categorical_accuracy: 0.5343 - val_loss: 1.0876 - val_sparse_categorical_accuracy: 0.5205\n",
      "Epoch 35/50\n",
      "40/40 [==============================] - 3s 77ms/step - loss: 1.0508 - sparse_categorical_accuracy: 0.5331 - val_loss: 1.0862 - val_sparse_categorical_accuracy: 0.5190\n",
      "Epoch 36/50\n",
      "40/40 [==============================] - 3s 78ms/step - loss: 1.0639 - sparse_categorical_accuracy: 0.5281 - val_loss: 1.0874 - val_sparse_categorical_accuracy: 0.5195\n",
      "Epoch 37/50\n",
      "40/40 [==============================] - 3s 78ms/step - loss: 1.0608 - sparse_categorical_accuracy: 0.5285 - val_loss: 1.0849 - val_sparse_categorical_accuracy: 0.5213\n",
      "Epoch 38/50\n",
      "40/40 [==============================] - 3s 77ms/step - loss: 1.0577 - sparse_categorical_accuracy: 0.5375 - val_loss: 1.0860 - val_sparse_categorical_accuracy: 0.5210\n",
      "Epoch 39/50\n",
      "40/40 [==============================] - 3s 78ms/step - loss: 1.0566 - sparse_categorical_accuracy: 0.5316 - val_loss: 1.0898 - val_sparse_categorical_accuracy: 0.5188\n",
      "Epoch 40/50\n",
      "40/40 [==============================] - 3s 78ms/step - loss: 1.0543 - sparse_categorical_accuracy: 0.5330 - val_loss: 1.0856 - val_sparse_categorical_accuracy: 0.5250\n",
      "Epoch 41/50\n",
      "40/40 [==============================] - 3s 77ms/step - loss: 1.0625 - sparse_categorical_accuracy: 0.5256 - val_loss: 1.0852 - val_sparse_categorical_accuracy: 0.5230\n",
      "Epoch 42/50\n",
      "40/40 [==============================] - 3s 78ms/step - loss: 1.0450 - sparse_categorical_accuracy: 0.5462 - val_loss: 1.0837 - val_sparse_categorical_accuracy: 0.5235\n",
      "Epoch 43/50\n",
      "40/40 [==============================] - 3s 78ms/step - loss: 1.0614 - sparse_categorical_accuracy: 0.5291 - val_loss: 1.0848 - val_sparse_categorical_accuracy: 0.5180\n",
      "Epoch 44/50\n",
      "40/40 [==============================] - 3s 78ms/step - loss: 1.0514 - sparse_categorical_accuracy: 0.5415 - val_loss: 1.0840 - val_sparse_categorical_accuracy: 0.5232\n",
      "Epoch 45/50\n",
      "40/40 [==============================] - 3s 77ms/step - loss: 1.0547 - sparse_categorical_accuracy: 0.5370 - val_loss: 1.0831 - val_sparse_categorical_accuracy: 0.5197\n",
      "Epoch 46/50\n",
      "40/40 [==============================] - 3s 78ms/step - loss: 1.0410 - sparse_categorical_accuracy: 0.5443 - val_loss: 1.0837 - val_sparse_categorical_accuracy: 0.5253\n",
      "Epoch 47/50\n",
      "40/40 [==============================] - 3s 77ms/step - loss: 1.0561 - sparse_categorical_accuracy: 0.5356 - val_loss: 1.0844 - val_sparse_categorical_accuracy: 0.5240\n",
      "Epoch 48/50\n",
      "40/40 [==============================] - 3s 78ms/step - loss: 1.0611 - sparse_categorical_accuracy: 0.5286 - val_loss: 1.0850 - val_sparse_categorical_accuracy: 0.5255\n",
      "Epoch 49/50\n",
      "40/40 [==============================] - 3s 78ms/step - loss: 1.0570 - sparse_categorical_accuracy: 0.5370 - val_loss: 1.0847 - val_sparse_categorical_accuracy: 0.5242\n",
      "Epoch 50/50\n",
      "40/40 [==============================] - 3s 78ms/step - loss: 1.0519 - sparse_categorical_accuracy: 0.5352 - val_loss: 1.0853 - val_sparse_categorical_accuracy: 0.5242\n"
     ]
    }
   ],
   "source": [
    "# Train the model\n",
    "history = model.fit(train_input, train_labels, batch_size = 400, validation_split=0.2, epochs = 50)"
   ]
  },
  {
   "cell_type": "code",
   "execution_count": 10,
   "metadata": {},
   "outputs": [
    {
     "name": "stdout",
     "output_type": "stream",
     "text": [
      "dict_keys(['loss', 'sparse_categorical_accuracy', 'val_loss', 'val_sparse_categorical_accuracy'])\n"
     ]
    },
    {
     "data": {
      "image/png": "[encoded data removed]",
      "text/plain": [
       "<Figure size 432x288 with 1 Axes>"
      ]
     },
     "metadata": {
      "needs_background": "light"
     },
     "output_type": "display_data"
    },
    {
     "data": {
      "image/png": "[encoded data removed]",
      "text/plain": [
       "<Figure size 432x288 with 1 Axes>"
      ]
     },
     "metadata": {
      "needs_background": "light"
     },
     "output_type": "display_data"
    }
   ],
   "source": [
    "# Plot accuracy and loss for training / validation samples\n",
    "import matplotlib.pyplot as plt\n",
    "print(history.history.keys())\n",
    "# summarize history for accuracy\n",
    "plt.plot(history.history['sparse_categorical_accuracy'])\n",
    "plt.plot(history.history['val_sparse_categorical_accuracy'])\n",
    "plt.title('model accuracy')\n",
    "plt.ylabel('sparse_categorical_accuracy')\n",
    "plt.xlabel('epoch')\n",
    "plt.legend(['train', 'validation'], loc='upper left')\n",
    "plt.show()\n",
    "# summarize history for loss\n",
    "plt.plot(history.history['loss'])\n",
    "plt.plot(history.history['val_loss'])\n",
    "plt.title('model loss')\n",
    "plt.ylabel('loss')\n",
    "plt.xlabel('epoch')\n",
    "plt.legend(['train', 'test'], loc='upper left')\n",
    "plt.show()"
   ]
  },
  {
   "cell_type": "markdown",
   "metadata": {},
   "source": [
    "<a id = 'furtherExploration'></a>\n",
    "## F. Some considerations for further exploration are:\n",
    "1. What evidence do you see that the above model might be over-fitting?\n",
    "\n",
    "2. Might BOW have some basic limitations for classification accuracy?  You'll explore this more in a homework on a BOW classifier.\n",
    "\n",
    "3. How might class imbalance impact possible accuracy / bias a model in a particular way to impact accuracy?  How could this be overcome?\n",
    "\n",
    "4. We are sparse_crossentropy_loss as loss function.  This might not be the optimal loss function.  Can you think of why?"
   ]
  },
  {
   "cell_type": "code",
   "execution_count": null,
   "metadata": {},
   "outputs": [],
   "source": []
  }
 ],
 "metadata": {
  "kernelspec": {
   "display_name": "Python 3",
   "language": "python",
   "name": "python3"
  },
  "language_info": {
   "codemirror_mode": {
    "name": "ipython",
    "version": 3
   },
   "file_extension": ".py",
   "mimetype": "text/x-python",
   "name": "python",
   "nbconvert_exporter": "python",
   "pygments_lexer": "ipython3",
   "version": "3.8.8"
  }
 },
 "nbformat": 4,
 "nbformat_minor": 4
}
