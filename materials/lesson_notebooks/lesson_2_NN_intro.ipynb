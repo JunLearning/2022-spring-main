{
 "cells": [
  {
   "cell_type": "markdown",
   "metadata": {
    "slideshow": {
     "slide_type": "slide"
    },
    "tags": []
   },
   "source": [
    "## Finite Notebook Fun for Lessons 1/2\n",
    "\n",
    "Note: the lesson notebooks are not reviewed and only serve for the purpose of in-class illustrations."
   ]
  },
  {
   "cell_type": "code",
   "execution_count": 10,
   "metadata": {
    "slideshow": {
     "slide_type": "skip"
    },
    "tags": []
   },
   "outputs": [],
   "source": [
    "from random import random\n",
    "import numpy as np\n",
    "\n",
    "from matplotlib import pyplot as plt\n",
    "\n",
    "import tensorflow as tf\n",
    "from tensorflow.keras import layers"
   ]
  },
  {
   "cell_type": "code",
   "execution_count": 11,
   "metadata": {
    "slideshow": {
     "slide_type": "skip"
    },
    "tags": []
   },
   "outputs": [],
   "source": [
    "# 4-window plot. Small modification from matplotlib examples.\n",
    "\n",
    "def make_plot(axs, history1, history2):\n",
    "    box = dict(facecolor='yellow', pad=5, alpha=0.2)\n",
    "\n",
    "    ax1 = axs[0, 0]\n",
    "    ax1.plot(history1.history['loss'])\n",
    "    ax1.plot(history1.history['val_loss'])\n",
    "    ax1.set_title('loss - no dropout')\n",
    "    ax1.set_ylabel('loss', bbox=box)\n",
    "    ax1.set_ylim(0, 0.7)\n",
    "\n",
    "    ax3 = axs[1, 0]\n",
    "    ax3.set_title('accuracy - no dropout')\n",
    "    ax3.plot(history1.history['categorical_accuracy'])\n",
    "    ax3.plot(history1.history['val_categorical_accuracy'])\n",
    "    ax3.set_ylabel('accuracy', bbox=box)\n",
    "    ax3.set_ylim(0.7, 1.0)\n",
    "\n",
    "\n",
    "    ax2 = axs[0, 1]\n",
    "    ax2.set_title('loss - with dropout')\n",
    "    ax2.plot(history2.history['loss'])\n",
    "    ax2.plot(history2.history['val_loss'])\n",
    "    ax2.set_ylim(0, 0.7)\n",
    "\n",
    "    ax4 = axs[1, 1]\n",
    "    ax4.set_title('accuracy - with dropout')\n",
    "    ax4.plot(history2.history['categorical_accuracy'])\n",
    "    ax4.plot(history2.history['val_categorical_accuracy'])\n",
    "    ax4.set_ylim(0.7, 1.0)"
   ]
  },
  {
   "cell_type": "markdown",
   "metadata": {
    "slideshow": {
     "slide_type": "slide"
    },
    "tags": []
   },
   "source": [
    "### 1. Checking a few things about cross-entropy\n",
    "\n",
    "Imagine a probability distribution $p$ cross 5 outcomes:"
   ]
  },
  {
   "cell_type": "code",
   "execution_count": 12,
   "metadata": {
    "scrolled": true
   },
   "outputs": [
    {
     "name": "stdout",
     "output_type": "stream",
     "text": [
      "[0.3  0.2  0.1  0.25 0.15]\n"
     ]
    }
   ],
   "source": [
    "p = np.array([0.3,0.2,0.1,0.25,0.15])\n",
    "print(p)"
   ]
  },
  {
   "cell_type": "markdown",
   "metadata": {},
   "source": [
    "Calculate the entropy:"
   ]
  },
  {
   "cell_type": "code",
   "execution_count": 13,
   "metadata": {},
   "outputs": [
    {
     "name": "stdout",
     "output_type": "stream",
     "text": [
      "2.228212945841001\n"
     ]
    }
   ],
   "source": [
    "S = -(0.3 * np.log2(0.3) + 0.2 * np.log2(0.2) + 0.1 * np.log2(0.1) + 0.25 * np.log2(0.25) + 0.15 * np.log2(0.15))\n",
    "print(S)"
   ]
  },
  {
   "cell_type": "markdown",
   "metadata": {},
   "source": [
    "Explicit, but tedious and silly. Better way? Use vectors:"
   ]
  },
  {
   "cell_type": "code",
   "execution_count": 14,
   "metadata": {},
   "outputs": [
    {
     "name": "stdout",
     "output_type": "stream",
     "text": [
      "2.228212945841001\n"
     ]
    }
   ],
   "source": [
    "S = - np.dot(p, np.log2(p))\n",
    "print(S)"
   ]
  },
  {
   "cell_type": "markdown",
   "metadata": {},
   "source": [
    "Same result. Good. "
   ]
  },
  {
   "cell_type": "markdown",
   "metadata": {},
   "source": [
    "Now imagine a 2nd distribution q which is close to $p$ but differs a bit. \n",
    "Construct it via a small $\\delta$ vector which has a mean of zero, and whose scale is a small number $\\epsilon$: "
   ]
  },
  {
   "cell_type": "code",
   "execution_count": 15,
   "metadata": {},
   "outputs": [
    {
     "name": "stdout",
     "output_type": "stream",
     "text": [
      "q:  [0.28637902 0.20878772 0.10831511 0.25209741 0.14442074]\n"
     ]
    }
   ],
   "source": [
    "def create_q(p0, epsilon=0.03):\n",
    "\n",
    "    delta = epsilon * np.random.random(5)\n",
    "    delta = delta - np.mean(delta)\n",
    "    \n",
    "    return (p0 + delta)\n",
    "\n",
    "q = create_q(p)\n",
    "print('q: ', q)"
   ]
  },
  {
   "cell_type": "code",
   "execution_count": 16,
   "metadata": {},
   "outputs": [
    {
     "name": "stdout",
     "output_type": "stream",
     "text": [
      "[0.3  0.2  0.1  0.25 0.15]\n"
     ]
    }
   ],
   "source": [
    "print(p)"
   ]
  },
  {
   "cell_type": "markdown",
   "metadata": {},
   "source": [
    "What is the cross entropy?"
   ]
  },
  {
   "cell_type": "code",
   "execution_count": 17,
   "metadata": {},
   "outputs": [
    {
     "name": "stdout",
     "output_type": "stream",
     "text": [
      "2.229582514689815\n"
     ]
    }
   ],
   "source": [
    "ce = -np.dot(p, np.log2(q))\n",
    "print(ce)"
   ]
  },
  {
   "cell_type": "markdown",
   "metadata": {},
   "source": [
    "Close! Smaller or bigger than entropy?"
   ]
  },
  {
   "cell_type": "code",
   "execution_count": 18,
   "metadata": {},
   "outputs": [
    {
     "name": "stdout",
     "output_type": "stream",
     "text": [
      "True\n"
     ]
    }
   ],
   "source": [
    "print((ce - S) > 0)"
   ]
  },
  {
   "cell_type": "markdown",
   "metadata": {},
   "source": [
    "Let's try that for many q:"
   ]
  },
  {
   "cell_type": "code",
   "execution_count": 19,
   "metadata": {},
   "outputs": [
    {
     "name": "stdout",
     "output_type": "stream",
     "text": [
      "ce > S?  True\n",
      "ce > S?  True\n",
      "ce > S?  True\n",
      "ce > S?  True\n",
      "ce > S?  True\n"
     ]
    }
   ],
   "source": [
    "for attempt in range(5):\n",
    "    q = create_q(p)\n",
    "    ce = -np.dot(p, np.log2(q))\n",
    "    #print(q)\n",
    "    print('ce > S? ', (ce-S)>0)\n",
    "    "
   ]
  },
  {
   "cell_type": "markdown",
   "metadata": {},
   "source": [
    "Indeed... $ce$ is always larger than $S$ ('experimentally verified', but should be proven). $ce = S$ when $q=p$, therefor minimizing $ce$ drives $q \\rightarrow p$."
   ]
  },
  {
   "cell_type": "markdown",
   "metadata": {
    "slideshow": {
     "slide_type": "slide"
    },
    "tags": []
   },
   "source": [
    "### 2. A few basic words on vector and matrix calculations \n",
    "\n",
    "Imagine a neural net where the dimension  of the incoming layer is $4$, and the next layer has dimension $3$. Let $x$ be the input. What are the dimensions of the weight matrix $W$ and bias vector $b$ in $$z = f(x W + b)?$$    "
   ]
  },
  {
   "cell_type": "markdown",
   "metadata": {},
   "source": [
    "$W$ needs to 'translate' a 4-d vector into a 3-d vector. Hence dim$(W) = 4 \\times 3$.\n",
    "\n",
    "Each output neuron has its own bias value, dim$(b) = 3$.\n",
    "\n",
    "Example:"
   ]
  },
  {
   "cell_type": "code",
   "execution_count": 20,
   "metadata": {},
   "outputs": [],
   "source": [
    "x = np.array([1,1,2,2])\n",
    "\n",
    "W = np.array([[-1,-3,-2],[-2,3,-6],[4,-2,3], [-1, 5, 1]]) \n",
    "\n",
    "\n",
    "b = np.array([-1, -2, -3])"
   ]
  },
  {
   "cell_type": "code",
   "execution_count": 21,
   "metadata": {},
   "outputs": [
    {
     "name": "stdout",
     "output_type": "stream",
     "text": [
      "x shape:  (4,)\n",
      "W shape:  (4, 3)\n",
      "b shape:  (3,)\n"
     ]
    }
   ],
   "source": [
    "print('x shape: ', x.shape)\n",
    "print('W shape: ', W.shape)\n",
    "print('b shape: ', b.shape)"
   ]
  },
  {
   "cell_type": "code",
   "execution_count": 14,
   "metadata": {},
   "outputs": [
    {
     "data": {
      "text/plain": [
       "array([ 2,  4, -3])"
      ]
     },
     "execution_count": 14,
     "metadata": {},
     "output_type": "execute_result"
    }
   ],
   "source": [
    "z = x.dot(W) + b\n",
    "z"
   ]
  },
  {
   "cell_type": "markdown",
   "metadata": {},
   "source": [
    "Now let's add the non-linearity, sigmoid to be concrete. The non-linearity is an element-wise operation. (The last output layer at the end however is different.)"
   ]
  },
  {
   "cell_type": "code",
   "execution_count": 15,
   "metadata": {},
   "outputs": [],
   "source": [
    "def sigmoid(y):\n",
    "    return 1/(1 + np.exp(-y))"
   ]
  },
  {
   "cell_type": "code",
   "execution_count": 16,
   "metadata": {},
   "outputs": [
    {
     "data": {
      "text/plain": [
       "array([0.88079708, 0.98201379, 0.04742587])"
      ]
     },
     "execution_count": 16,
     "metadata": {},
     "output_type": "execute_result"
    }
   ],
   "source": [
    "h = sigmoid(z)\n",
    "h"
   ]
  },
  {
   "cell_type": "markdown",
   "metadata": {},
   "source": [
    "### 3. Familiarization with the Output Layer and Softmax operation\n",
    "\n",
    "Imagine your output layer (which does not have a non-linearity) returns these 5 numbers:"
   ]
  },
  {
   "cell_type": "code",
   "execution_count": 17,
   "metadata": {},
   "outputs": [
    {
     "name": "stdout",
     "output_type": "stream",
     "text": [
      "o:  [ 4.21079502 -0.13998141  3.56866729 -1.06345951  0.86665689]\n"
     ]
    }
   ],
   "source": [
    "o = 10 * np.random.random(5) - 5\n",
    "print('o: ', o)"
   ]
  },
  {
   "cell_type": "markdown",
   "metadata": {},
   "source": [
    "In a classification problem, these 5 numbers would be the output for each class. They can be large, small, positive, negative, etc. \n",
    "\n",
    "We want to model probabilities though. Hence, we need to convert the output to 5 values that are **1) positive** and **2) sum to 1**.\n",
    "\n",
    "Let's first exponentiate all values:"
   ]
  },
  {
   "cell_type": "code",
   "execution_count": 18,
   "metadata": {},
   "outputs": [
    {
     "name": "stdout",
     "output_type": "stream",
     "text": [
      "outputs:  [67.4101108   0.8693744  35.46929119  0.34525931  2.37894448]\n"
     ]
    }
   ],
   "source": [
    "exp_o = np.exp(o)\n",
    "print('outputs: ', exp_o)"
   ]
  },
  {
   "cell_type": "markdown",
   "metadata": {},
   "source": [
    "Great. All numbers are positive. But they don't sum to $1$. Simple solution: divide each value by the sum of all values:"
   ]
  },
  {
   "cell_type": "code",
   "execution_count": 19,
   "metadata": {},
   "outputs": [
    {
     "name": "stdout",
     "output_type": "stream",
     "text": [
      "sum of all output values:  106.47298018066569\n"
     ]
    }
   ],
   "source": [
    "sum_exp_o = np.sum(exp_o)\n",
    "print('sum of all output values: ', sum_exp_o)"
   ]
  },
  {
   "cell_type": "code",
   "execution_count": 20,
   "metadata": {},
   "outputs": [
    {
     "name": "stdout",
     "output_type": "stream",
     "text": [
      "model probabilities p:  [0.63311941 0.00816521 0.33312951 0.00324269 0.02234318]\n"
     ]
    }
   ],
   "source": [
    "p = exp_o/sum_exp_o\n",
    "print('model probabilities p: ', p)"
   ]
  },
  {
   "cell_type": "code",
   "execution_count": 21,
   "metadata": {},
   "outputs": [
    {
     "name": "stdout",
     "output_type": "stream",
     "text": [
      "model probabilities q:  [0.63311941 0.00816521 0.33312951 0.00324269 0.02234318]\n"
     ]
    }
   ],
   "source": [
    "p = exp_o/sum_exp_o\n",
    "print('model probabilities q: ', p)"
   ]
  },
  {
   "cell_type": "code",
   "execution_count": 22,
   "metadata": {},
   "outputs": [
    {
     "data": {
      "text/plain": [
       "1.0"
      ]
     },
     "execution_count": 22,
     "metadata": {},
     "output_type": "execute_result"
    }
   ],
   "source": [
    "np.sum(p)"
   ]
  },
  {
   "cell_type": "markdown",
   "metadata": {},
   "source": [
    "Cool! Sums to 1 as desired. (Not a surprise.)\n",
    "\n",
    "What happens if I add a constant to each value in $o$? How is softmax affected?"
   ]
  },
  {
   "cell_type": "code",
   "execution_count": 23,
   "metadata": {},
   "outputs": [],
   "source": [
    "o_2 = o + 1"
   ]
  },
  {
   "cell_type": "code",
   "execution_count": 24,
   "metadata": {},
   "outputs": [
    {
     "name": "stdout",
     "output_type": "stream",
     "text": [
      "outputs:  [183.23967923   2.36320463  96.4155297    0.93851212   6.46664156]\n"
     ]
    }
   ],
   "source": [
    "exp_o_2 = np.exp(o_2)\n",
    "print('outputs: ', exp_o_2)"
   ]
  },
  {
   "cell_type": "code",
   "execution_count": 25,
   "metadata": {},
   "outputs": [],
   "source": [
    "sum_exp_o_2 = np.sum(exp_o_2)"
   ]
  },
  {
   "cell_type": "code",
   "execution_count": 26,
   "metadata": {},
   "outputs": [
    {
     "name": "stdout",
     "output_type": "stream",
     "text": [
      "new probabilities q_2:  [0.63311941 0.00816521 0.33312951 0.00324269 0.02234318]\n"
     ]
    }
   ],
   "source": [
    "q = exp_o_2/sum_exp_o_2\n",
    "print('new probabilities q_2: ', q)"
   ]
  },
  {
   "cell_type": "markdown",
   "metadata": {},
   "source": [
    "Same!"
   ]
  },
  {
   "cell_type": "markdown",
   "metadata": {},
   "source": [
    "### 4. Most Basic Keras Intro\n",
    "\n",
    "Simple 3-class classification model. This is only intended to illustrate the TensorFlow/Keras concepts. See: https://www.tensorflow.org/guide/keras"
   ]
  },
  {
   "cell_type": "markdown",
   "metadata": {},
   "source": [
    "There are two types of formalisms: 1) **Sequential** models, and 2) **Functional API**. The former is a little simpler, but it only supports (as the name says) sequential architectures. The Functional API approach is extremely flexible and will be introduced later. (And that is the one we will generally use.)   \n",
    "\n",
    "\n",
    "But for this first test we set up a **Sequential** model, wrapped in a function:"
   ]
  },
  {
   "cell_type": "code",
   "execution_count": 24,
   "metadata": {},
   "outputs": [],
   "source": [
    "def create_model(dropout=0.0, num_neurons=10):\n",
    "    # Define 'sequential' model (vs. 'functional'... we'll discuss later.)\n",
    "    model = tf.keras.Sequential([\n",
    "\n",
    "    # Let's go nuts in terms of layers and neurons per layer and actively try to overfit\n",
    "        \n",
    "    # Add 5 densely-connected layers with num_neurons units followed by dropout to the model:\n",
    "    \n",
    "    layers.Dense(num_neurons, activation='relu',\n",
    "                 #kernel_initializer=tf.keras.initializers.glorot_normal ,\n",
    "                 input_shape=(20,)),         # '20' is the number of features of the input\n",
    "\n",
    "    # add a droput layer\n",
    "    layers.Dropout(dropout),\n",
    "\n",
    "    layers.Dense(num_neurons, activation='relu'),\n",
    "    layers.Dropout(dropout),\n",
    "\n",
    "    layers.Dense(num_neurons, activation='relu'),\n",
    "    layers.Dropout(dropout),\n",
    "\n",
    "    layers.Dense(num_neurons, activation='relu'),\n",
    "    layers.Dropout(dropout),\n",
    "        \n",
    "    layers.Dense(num_neurons, activation='relu'),\n",
    "    layers.Dropout(dropout),\n",
    "\n",
    "    # Create a softmax layer with 3 output units - \n",
    "    # as required by the labels being 3 dimensional representinbg 3 classes:\n",
    "    layers.Dense(3, activation='softmax')])\n",
    "    \n",
    "    # Compile model. Configure a model for categorical classification.\n",
    "    model.compile(optimizer=tf.keras.optimizers.Adam(),\n",
    "              loss='categorical_crossentropy',\n",
    "              metrics=[tf.keras.metrics.categorical_accuracy])\n",
    "    \n",
    "    return model"
   ]
  },
  {
   "cell_type": "markdown",
   "metadata": {},
   "source": [
    "Create some fake input data ():"
   ]
  },
  {
   "cell_type": "code",
   "execution_count": 25,
   "metadata": {},
   "outputs": [],
   "source": [
    "def random_one_hot_labels(num_examples, num_classes, dim):\n",
    "    \n",
    "    #create random data\n",
    "    base_data = np.random.random((num_examples, dim))\n",
    "    \n",
    "    #create random labels\n",
    "    classes = np.random.randint(0, num_classes, num_examples)\n",
    "    labels = np.zeros((num_examples, num_classes))\n",
    "    labels[np.arange(num_examples), classes] = 1\n",
    "    \n",
    "    # hide a small signal in the data\n",
    "    label_to_data_signal = np.reshape(np.array(np.random.random(num_classes * dim)), \n",
    "                                      (num_classes, dim))\n",
    "    \n",
    "    signals = np.matmul(labels, label_to_data_signal)                    \n",
    "    \n",
    "    data = base_data + 1/2 * signals\n",
    "    \n",
    "    return data, labels\n",
    "\n",
    "\n",
    "\n",
    "data, labels = random_one_hot_labels(10000, 3, 20)"
   ]
  },
  {
   "cell_type": "markdown",
   "metadata": {},
   "source": [
    "Create a model without dropout:"
   ]
  },
  {
   "cell_type": "code",
   "execution_count": 26,
   "metadata": {},
   "outputs": [
    {
     "name": "stderr",
     "output_type": "stream",
     "text": [
      "2022-01-18 16:08:50.917386: I tensorflow/core/platform/cpu_feature_guard.cc:151] This TensorFlow binary is optimized with oneAPI Deep Neural Network Library (oneDNN) to use the following CPU instructions in performance-critical operations:  AVX2 FMA\n",
      "To enable them in other operations, rebuild TensorFlow with the appropriate compiler flags.\n"
     ]
    }
   ],
   "source": [
    "model_0 = create_model(0.0, 200)"
   ]
  },
  {
   "cell_type": "markdown",
   "metadata": {},
   "source": [
    "Make a couple of predictions. Are they random?"
   ]
  },
  {
   "cell_type": "code",
   "execution_count": 27,
   "metadata": {},
   "outputs": [
    {
     "data": {
      "text/plain": [
       "array([[0.34161142, 0.34864888, 0.30973968],\n",
       "       [0.33918762, 0.35386142, 0.30695096]], dtype=float32)"
      ]
     },
     "execution_count": 27,
     "metadata": {},
     "output_type": "execute_result"
    }
   ],
   "source": [
    "model_0.predict(data[:2])"
   ]
  },
  {
   "cell_type": "markdown",
   "metadata": {},
   "source": [
    "Pretty much...\n",
    "Now then train your mode:"
   ]
  },
  {
   "cell_type": "code",
   "execution_count": 28,
   "metadata": {},
   "outputs": [
    {
     "name": "stdout",
     "output_type": "stream",
     "text": [
      "160/160 - 0s - loss: 0.0253 - categorical_accuracy: 0.9910 - val_loss: 0.4988 - val_categorical_accuracy: 0.9050 - 241ms/epoch - 2ms/step\n"
     ]
    },
    {
     "data": {
      "text/plain": [
       "<keras.callbacks.History at 0x140041c30>"
      ]
     },
     "execution_count": 28,
     "metadata": {},
     "output_type": "execute_result"
    }
   ],
   "source": [
    "history_0 = model_0.fit(data, labels,   \n",
    "          validation_split=0.2,\n",
    "          epochs=100, \n",
    "          batch_size=50, \n",
    "          verbose=0)\n",
    "\n",
    "model_0.fit(data, labels,   \n",
    "          validation_split=0.2,\n",
    "          epochs=1, \n",
    "          batch_size=50, \n",
    "          verbose=2)"
   ]
  },
  {
   "cell_type": "markdown",
   "metadata": {},
   "source": [
    "Now create and train a model with dropout:"
   ]
  },
  {
   "cell_type": "code",
   "execution_count": 31,
   "metadata": {},
   "outputs": [
    {
     "name": "stdout",
     "output_type": "stream",
     "text": [
      "160/160 [==============================] - 0s 914us/step - loss: 0.4220 - categorical_accuracy: 0.8474 - val_loss: 0.3205 - val_categorical_accuracy: 0.8845\n"
     ]
    },
    {
     "data": {
      "text/plain": [
       "<keras.callbacks.History at 0x133904eb0>"
      ]
     },
     "execution_count": 31,
     "metadata": {},
     "output_type": "execute_result"
    }
   ],
   "source": [
    "model_2 = create_model(0.2)\n",
    "\n",
    "history_2 = model_2.fit(data, labels,   \n",
    "          validation_split=0.2,\n",
    "          epochs=100, \n",
    "          batch_size=50, \n",
    "          verbose=0)\n",
    "\n",
    "model_2.fit(data, labels,   \n",
    "          validation_split=0.2,\n",
    "          epochs=1, \n",
    "          batch_size=50, \n",
    "          verbose=1)"
   ]
  },
  {
   "cell_type": "markdown",
   "metadata": {},
   "source": [
    "Let's look at the behavior:"
   ]
  },
  {
   "cell_type": "code",
   "execution_count": 32,
   "metadata": {},
   "outputs": [
    {
     "data": {
      "image/png": "[encoded data removed]",
      "text/plain": [
       "<Figure size 1332x756 with 4 Axes>"
      ]
     },
     "metadata": {
      "needs_background": "light"
     },
     "output_type": "display_data"
    }
   ],
   "source": [
    "fig, axs = plt.subplots(2, 2)\n",
    "fig.subplots_adjust(left=0.2, wspace=0.6)\n",
    "make_plot(axs, history_0, history_2)\n",
    "\n",
    "fig.align_ylabels(axs[:, 1])\n",
    "fig.set_size_inches(18.5, 10.5)\n",
    "plt.show()"
   ]
  },
  {
   "cell_type": "markdown",
   "metadata": {},
   "source": [
    "What is the interpretation? (The example is surely very artificial.)"
   ]
  },
  {
   "cell_type": "markdown",
   "metadata": {},
   "source": [
    "### 5. Effect of Layer Normalization\n",
    "\n",
    "In the last step, let's quickly introduce the **Functional API** and then specifically looks at the effect of Layer Normalization:"
   ]
  },
  {
   "cell_type": "code",
   "execution_count": 37,
   "metadata": {},
   "outputs": [],
   "source": [
    "try: \n",
    "    del function_model_layer_norm\n",
    "except:\n",
    "    pass\n",
    "\n",
    "# Functional API! \n",
    "# Define inputs, then network architecture build as a series of: \n",
    "#     layer_output = layer(earlier_layer_output)\n",
    "# then define model through input list and output list \n",
    "\n",
    "inputs = layers.Input(shape=(20,))\n",
    "\n",
    "dense_layer =  layers.Dense(5, activation='relu',\n",
    "                              kernel_initializer=tf.keras.initializers.glorot_normal,\n",
    "                              name='layer_1')         \n",
    "\n",
    "dense_out = dense_layer(inputs)\n",
    "\n",
    "# now add layer normalization layer\n",
    "final_out = layers.LayerNormalization()(dense_out)\n",
    "\n",
    "# use actual 2 layers as model outputs to see the effect of the layer normalization:\n",
    "function_model_layer_norm = tf.keras.models.Model(inputs=[inputs], outputs=[dense_out, final_out])"
   ]
  },
  {
   "cell_type": "code",
   "execution_count": 38,
   "metadata": {},
   "outputs": [
    {
     "data": {
      "text/plain": [
       "array([[0.5755498, 0.       , 0.       , 1.8367956, 0.       ],\n",
       "       [0.8852813, 0.2675178, 0.       , 1.8618687, 0.       ]],\n",
       "      dtype=float32)"
      ]
     },
     "execution_count": 38,
     "metadata": {},
     "output_type": "execute_result"
    }
   ],
   "source": [
    "pred_layer_after_dense, pred_layer_after_norm = function_model_layer_norm.predict(data[:2], batch_size=2)\n",
    "pred_layer_after_dense"
   ]
  },
  {
   "cell_type": "code",
   "execution_count": 39,
   "metadata": {},
   "outputs": [
    {
     "data": {
      "text/plain": [
       "array([[ 0.13043645, -0.6760967 , -0.6760967 ,  1.8978535 , -0.6760967 ],\n",
       "       [ 0.39856732, -0.47347915, -0.85111225,  1.7771363 , -0.85111225]],\n",
       "      dtype=float32)"
      ]
     },
     "execution_count": 39,
     "metadata": {},
     "output_type": "execute_result"
    }
   ],
   "source": [
    "pred_layer_after_norm"
   ]
  },
  {
   "cell_type": "markdown",
   "metadata": {},
   "source": [
    "Let's look at the sum and standard deviations of the output:"
   ]
  },
  {
   "cell_type": "code",
   "execution_count": 49,
   "metadata": {},
   "outputs": [
    {
     "data": {
      "text/plain": [
       "array([-1.1920929e-07,  0.0000000e+00], dtype=float32)"
      ]
     },
     "execution_count": 49,
     "metadata": {},
     "output_type": "execute_result"
    }
   ],
   "source": [
    "np.sum(pred_layer_after_norm, axis=-1)"
   ]
  },
  {
   "cell_type": "code",
   "execution_count": 38,
   "metadata": {},
   "outputs": [
    {
     "data": {
      "text/plain": [
       "array([0.9985308, 0.9967833], dtype=float32)"
      ]
     },
     "execution_count": 38,
     "metadata": {},
     "output_type": "execute_result"
    }
   ],
   "source": [
    "np.std(pred_layer_after_norm, axis=-1)"
   ]
  },
  {
   "cell_type": "markdown",
   "metadata": {},
   "source": [
    "Looks reasonable?"
   ]
  },
  {
   "cell_type": "code",
   "execution_count": null,
   "metadata": {},
   "outputs": [],
   "source": []
  }
 ],
 "metadata": {
  "kernelspec": {
   "display_name": "Python 3 (ipykernel)",
   "language": "python",
   "name": "python3"
  },
  "language_info": {
   "codemirror_mode": {
    "name": "ipython",
    "version": 3
   },
   "file_extension": ".py",
   "mimetype": "text/x-python",
   "name": "python",
   "nbconvert_exporter": "python",
   "pygments_lexer": "ipython3",
   "version": "3.10.1"
  }
 },
 "nbformat": 4,
 "nbformat_minor": 4
}
