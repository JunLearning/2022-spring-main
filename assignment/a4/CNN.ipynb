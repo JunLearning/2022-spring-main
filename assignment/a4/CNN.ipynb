{
 "cells": [
  {
   "cell_type": "markdown",
   "metadata": {},
   "source": [
    "# Convolutional Neural Networks\n",
    "\n",
    "This notebook introduces convolutional neural networks (CNNs), a more powerful classification model similar to the Neural Bag-of-Words (BOW) model you explored earlier.\n",
    "\n",
    "## Outline\n",
    "\n",
    "- **Part (a):** Model Architecture\n",
    "- **Part (b):** Implementing the CNN Model\n",
    "- **Part (c):** Tuning"
   ]
  },
  {
   "cell_type": "code",
   "execution_count": 1,
   "metadata": {},
   "outputs": [
    {
     "name": "stdout",
     "output_type": "stream",
     "text": [
      "Overriding nltk.tree.Tree pretty-printing to use custom GraphViz.\n"
     ]
    }
   ],
   "source": [
    "from __future__ import division\n",
    "import os, sys, re, json, time, datetime, shutil\n",
    "import itertools, collections\n",
    "from importlib import reload\n",
    "from IPython.display import display, HTML\n",
    "\n",
    "# NLTK for NLP utils and corpora\n",
    "import nltk\n",
    "\n",
    "# NumPy and TensorFlow\n",
    "import numpy as np\n",
    "import pandas as pd\n",
    "import tensorflow as tf\n",
    "from tensorflow import keras\n",
    "\n",
    "# Helper libraries\n",
    "from w266_common import utils, vocabulary, tf_embed_viz, treeviz\n",
    "from w266_common import patched_numpy_io\n",
    "# Code for this assignment\n",
    "import sst\n",
    "\n",
    "# Monkey-patch NLTK with better Tree display that works on Cloud or other display-less server.\n",
    "print(\"Overriding nltk.tree.Tree pretty-printing to use custom GraphViz.\")\n",
    "treeviz.monkey_patch(nltk.tree.Tree, node_style_fn=sst.sst_node_style, format='svg')"
   ]
  },
  {
   "cell_type": "markdown",
   "metadata": {},
   "source": [
    "## (a) Model Architecture\n",
    "\n",
    "CNNs are a more sophisticated neural model for sentence classification than the Neural BOW model we saw in the last section. CNNs operate by sweeping a collection of filters over a text. Each filter produces a sequence of feature values known as a _feature map_. In one of the most basic formulations introduced by [Kim (2014)](https://www.aclweb.org/anthology/D14-1181), a single layer of _pooling_ is used to summarize the _feature maps_ as a fixed length vector. The fixed length vector is then feed to the output layer in order to produce classification labels. A popular choice for the pooling operation is to take the maximum feature value from by each _feature map_.\n",
    "\n",
    "![Convolutional Neural Network from Kim 2014](kim_2014_figure_1_cnn.png)\n",
    "*CNN model architure, Figure 1 from Kim (2014)*\n",
    "\n",
    "We'll use the following notation:\n",
    "- $h$: filter/kernel length (in words)\n",
    "- $w^{(i)} \\in \\mathbb{Z}$, the word id for the $i^{th}$ word of the sequence (as an integer index)\n",
    "- $x^{(i)} \\in \\mathbb{R}^d$ for the vector representation (embedding) of $w^{(i)}$\n",
    "- $x^{i:i+j}$ is the concatenation of $x^{(i)}, x^{(i+1)} ... x^{(i+j)}$ \n",
    "- $c^{(i)}_{k}$ is the value of the $k^{th}$ feature map at the $i^{th}$ position along the word sequence, each filter applies over a window of $h$ words and uses non-linearity $f$.\n",
    "- $c_k$ is one feature map (the $k_{th}$).  Its values are $c^{(0)}_{k}$, $c^{(1)}_{k}$, $c^{(2)}_{k}$, ...\n",
    "- $\\hat{c}_{k}$ is the value of the $k^{th}$ feature after pooling the feature map over the whole sequence.\n",
    "- $\\hat{C}$ is the concatenation of pooled feature maps. \n",
    "- $y$ for the target label ($\\in 1,\\ldots,\\mathtt{num\\_classes}$)\n",
    "\n",
    "Our model is defined as:\n",
    "- **Embedding layer:** $x^{(i)} = W_{embed}[w^{(i)}]$\n",
    "- **Convolutional layer:** $c^{(i)}_{k} = f(x^{i:i+h-1} W_k + b)$\n",
    "- **Pooling layer:**  $\\hat{c}_{k}$ = $max(c_k)$ = $max(c^{(0)}_{k}, c^{(1)}_{k}...)$ \n",
    "- **Output layer:** $\\hat{y} = \\hat{P}(y) = \\mathrm{softmax}(\\hat{C} W_{out} + b_{out})$\n",
    "\n",
    "\n",
    "We'll refer to the first part of this model (**Embedding layer**, **Convolutional layer**, and **Pooling layer**) as the **Encoder**: it has the role of encoding the input sequence into a fixed-length vector representation that we pass to the output layer.\n",
    "\n",
    "We'll also use these as shorthand for important dimensions:\n",
    "- `V`: the vocabulary size (equal to `ds.vocab.size`)\n",
    "- `N`: the maximum number of tokens in the input text\n",
    "- `embed_dim`: the embedding dimension $d$\n",
    "- `filters`: number filters per filter length\n",
    "- `num_classes`: the number of target classes (2 for the binary task)"
   ]
  },
  {
   "cell_type": "markdown",
   "metadata": {},
   "source": [
    "## (a) Short Answer Questions\n",
    "\n",
    "When answering these questions in the answers file,\n",
    "`embed_dim = 10`, `kernel_size = 3`, `filters=128`, `N=10` and `num_classes = 7`.  Assume a single example (no batching).\n",
    "\n",
    "1. In terms of these values, the vocabulary size `V` and the maximum sequence length `N`, what are the\n",
    "   shapes of the following variables: \n",
    "   $c^{(i)}_{k}$, $c_{k}$, $\\hat{c}_{k}$, and $\\hat{C}$. Assume a stride size of 1. Assume padding is not used (e.g., for tf.nn.max_pool and tf.nn.conv1d, setting padding='VALID'), provide the shapes listed above.\n",
    "<p>\n",
    "2. What are the shapes of $c_{k}$ and $\\hat{c}_{k}$ when padding is used.\n",
    "      (e.g., for tf.nn.max_pool and tf.nn.conv1d, setting padding='same').\n",
    "<p>\n",
    "3. How many parameters are in each of the convolutional filters, $W_{k}$?  What if the kernel size is 4? 5? And the output layer, $W_{out}$?\n",
    "<p>\n",
    "<p>\n",
    "4. Historically NLP models made heavy use of manual feature engineering. In relation to systems with manually engineered features, describe what type of operation is being performed by the convolutional filters.\n",
    "<p>\n",
    "5. Suppose that we have two examples, `[foo bar baz]` and `[baz bar foo]`.  Does this model definitely make the same predictions on these? Why or why not?"
   ]
  },
  {
   "cell_type": "markdown",
   "metadata": {},
   "source": [
    "## (b) Implementing the CNN Model\n",
    "\n",
    "We'll implement our CNN model below. Our implementation will differ from [Kim (2014)](https://www.aclweb.org/anthology/D14-1181) in that we will support using multiple dense hidden layers after the convolutional layers.\n",
    "\n",
    "**Before you start**, be sure to answer the short-answer questions above!"
   ]
  },
  {
   "cell_type": "code",
   "execution_count": 2,
   "metadata": {},
   "outputs": [
    {
     "name": "stdout",
     "output_type": "stream",
     "text": [
      "Loading SST from data/sst/trainDevTestTrees_PTB.zip\n",
      "Training set:     8,544 trees\n",
      "Development set:  1,101 trees\n",
      "Test set:         2,210 trees\n",
      "Building vocabulary - 16,474 words\n",
      "Processing to phrases...  Done!\n",
      "Splits: train / dev / test : 98,794 / 13,142 / 26,052\n"
     ]
    }
   ],
   "source": [
    "import sst\n",
    "\n",
    "# Load SST dataset\n",
    "ds = sst.SSTDataset(V=20000).process(label_scheme=\"binary\")\n",
    "max_len = 40\n",
    "train_x, train_ns, train_y = ds.as_padded_array('train', max_len=max_len, root_only=True)\n",
    "dev_x,   dev_ns,   dev_y   = ds.as_padded_array('dev',   max_len=max_len, root_only=True)\n",
    "test_x,  test_ns,  test_y  = ds.as_padded_array('test',  max_len=max_len, root_only=True)\n"
   ]
  },
  {
   "cell_type": "code",
   "execution_count": 3,
   "metadata": {},
   "outputs": [
    {
     "name": "stdout",
     "output_type": "stream",
     "text": [
      "Metal device set to: Apple M1\n",
      "\n",
      "systemMemory: 16.00 GB\n",
      "maxCacheSize: 5.33 GB\n",
      "\n"
     ]
    },
    {
     "name": "stderr",
     "output_type": "stream",
     "text": [
      "2022-02-13 12:31:11.730741: I tensorflow/core/common_runtime/pluggable_device/pluggable_device_factory.cc:305] Could not identify NUMA node of platform GPU ID 0, defaulting to 0. Your kernel may not have been built with NUMA support.\n",
      "2022-02-13 12:31:11.731335: I tensorflow/core/common_runtime/pluggable_device/pluggable_device_factory.cc:271] Created TensorFlow device (/job:localhost/replica:0/task:0/device:GPU:0 with 0 MB memory) -> physical PluggableDevice (device: 0, name: METAL, pci bus id: <undefined>)\n"
     ]
    }
   ],
   "source": [
    "# Specify model hyperparameters.\n",
    "epochs = 10\n",
    "embed_dim = 5\n",
    "num_filters = [2, 2, 2]\n",
    "kernel_sizes = [2, 3, 4]\n",
    "dense_layer_dims = [10, 4]\n",
    "dropout_rate = 0.7\n",
    "num_classes = len(ds.target_names)\n",
    "\n",
    "# Construct the convolutional neural network.\n",
    "# The form of each keras layer function is as follows:\n",
    "#    result = keras.layers.LayerType(arguments for the layer)(layer(s) it should use as input)\n",
    "# concretely,\n",
    "#    this_layer_output = keras.layers.Dense(100, activation='relu')(prev_layer_vector)\n",
    "# performs this_layer_output = relu(prev_layer_vector x W + b) where W has 100 columns.\n",
    "\n",
    "# Input is a special \"layer\".  It defines a placeholder that will be overwritten by the training data.\n",
    "# In our case, we are accepting a list of wordids (padded out to max_len).\n",
    "wordids = keras.layers.Input(shape=(max_len,))\n",
    "\n",
    "# Embed the wordids.\n",
    "# Recall, this is just a mathematically equivalent operation to a linear layer and a one-hot\n",
    "h = keras.layers.Embedding(ds.vocab.size, embed_dim, input_length=max_len)(wordids)\n",
    "\n",
    "# Construct \"filters\" randomly initialized filters with dimension \"kernel_size\" for each size of filter we want.\n",
    "# With the default hyperparameters, we construct 2 filters each of size 2, 3, 4.  As in the image above, each filter\n",
    "# is wide enough to span the whole word embedding (this is why the convolution is \"1d\" as seen in the\n",
    "# function name below).\n",
    "conv_layers_for_all_kernel_sizes = []\n",
    "for kernel_size, filters in zip(kernel_sizes, num_filters):\n",
    "    conv_layer = keras.layers.Conv1D(filters=filters, kernel_size=kernel_size, activation='relu')(h)\n",
    "    conv_layer = keras.layers.GlobalMaxPooling1D()(conv_layer)\n",
    "    conv_layers_for_all_kernel_sizes.append(conv_layer)\n",
    "\n",
    "# Concat the feature maps from each different size.\n",
    "h = keras.layers.concatenate(conv_layers_for_all_kernel_sizes, axis=1)\n",
    "\n",
    "# Dropout can help with overfitting (improve generalization) by randomly 0-ing different subsets of values\n",
    "# in the vector.\n",
    "# See https://www.cs.toronto.edu/~hinton/absps/JMLRdropout.pdf for details.\n",
    "h = keras.layers.Dropout(rate=dropout_rate)(h)\n",
    "\n",
    "### YOUR CODE HERE\n",
    "# Add a fully connected layer for each dense layer dimension in dense_layer_dims.\n",
    "\n",
    "for dense_layer_dim in dense_layer_dims:\n",
    "    h = keras.layers.Dense(dense_layer_dim, activation=\"relu\")(h)\n",
    "\n",
    "### END YOUR CODE\n",
    "\n",
    "prediction = keras.layers.Dense(num_classes, activation='softmax')(h)\n",
    "\n",
    "model = keras.Model(inputs=wordids, outputs=prediction)\n",
    "model.compile(optimizer='adam',\n",
    "              loss='sparse_categorical_crossentropy',  # From information theory notebooks.\n",
    "              metrics=['accuracy'])        # What metric to output as we train."
   ]
  },
  {
   "cell_type": "code",
   "execution_count": 4,
   "metadata": {},
   "outputs": [
    {
     "name": "stderr",
     "output_type": "stream",
     "text": [
      "2022-02-13 12:31:12.256737: W tensorflow/core/platform/profile_utils/cpu_utils.cc:128] Failed to get CPU frequency: 0 Hz\n"
     ]
    },
    {
     "name": "stdout",
     "output_type": "stream",
     "text": [
      "Epoch 1/10\n"
     ]
    },
    {
     "name": "stderr",
     "output_type": "stream",
     "text": [
      "2022-02-13 12:31:12.501258: I tensorflow/core/grappler/optimizers/custom_graph_optimizer_registry.cc:112] Plugin optimizer for device_type GPU is enabled.\n"
     ]
    },
    {
     "name": "stdout",
     "output_type": "stream",
     "text": [
      "217/217 [==============================] - 6s 12ms/step - loss: 0.6917 - accuracy: 0.5250\n",
      "Epoch 2/10\n",
      "217/217 [==============================] - 2s 11ms/step - loss: 0.6674 - accuracy: 0.6228\n",
      "Epoch 3/10\n",
      "217/217 [==============================] - 2s 11ms/step - loss: 0.5929 - accuracy: 0.7147\n",
      "Epoch 4/10\n",
      "217/217 [==============================] - 2s 11ms/step - loss: 0.5071 - accuracy: 0.7814\n",
      "Epoch 5/10\n",
      "217/217 [==============================] - 2s 11ms/step - loss: 0.4359 - accuracy: 0.8217\n",
      "Epoch 6/10\n",
      "217/217 [==============================] - 2s 11ms/step - loss: 0.3945 - accuracy: 0.8444\n",
      "Epoch 7/10\n",
      "217/217 [==============================] - 2s 11ms/step - loss: 0.3519 - accuracy: 0.8642\n",
      "Epoch 8/10\n",
      "217/217 [==============================] - 2s 11ms/step - loss: 0.3228 - accuracy: 0.8803\n",
      "Epoch 9/10\n",
      "217/217 [==============================] - 2s 11ms/step - loss: 0.3058 - accuracy: 0.8863\n",
      "Epoch 10/10\n",
      "217/217 [==============================] - 2s 11ms/step - loss: 0.2908 - accuracy: 0.8928\n"
     ]
    },
    {
     "data": {
      "text/plain": [
       "<keras.callbacks.History at 0x281535f70>"
      ]
     },
     "execution_count": 4,
     "metadata": {},
     "output_type": "execute_result"
    }
   ],
   "source": [
    "model.reset_states()\n",
    "model.fit(train_x, train_y, epochs=epochs)"
   ]
  },
  {
   "cell_type": "markdown",
   "metadata": {},
   "source": [
    "## Evaluation\n",
    "\n",
    "Call [evaluate](https://keras.io/models/model/#evaluate) on your model."
   ]
  },
  {
   "cell_type": "code",
   "execution_count": 5,
   "metadata": {},
   "outputs": [
    {
     "name": "stdout",
     "output_type": "stream",
     "text": [
      "28/28 [==============================] - 0s 5ms/step - loss: 0.7857 - accuracy: 0.6158\n"
     ]
    },
    {
     "name": "stderr",
     "output_type": "stream",
     "text": [
      "2022-02-13 12:31:39.613588: I tensorflow/core/grappler/optimizers/custom_graph_optimizer_registry.cc:112] Plugin optimizer for device_type GPU is enabled.\n"
     ]
    },
    {
     "data": {
      "text/plain": [
       "[0.785722017288208, 0.6158257126808167]"
      ]
     },
     "execution_count": 5,
     "metadata": {},
     "output_type": "execute_result"
    }
   ],
   "source": [
    "#### YOUR CODE HERE ####\n",
    "\n",
    "model.evaluate(dev_x, dev_y)\n",
    "\n",
    "#### END(YOUR CODE) ####"
   ]
  },
  {
   "cell_type": "markdown",
   "metadata": {
    "tags": []
   },
   "source": [
    "# Part (c): Tuning Your Model\n",
    "\n",
    "We'll once again want to optimize hyperparameters for our model to see if we can improve performance. The CNN model includes a number of new parameters that can significantly influence model performance.\n",
    "\n",
    "In this section, you will be asked to describe the new parameters as well as use them to attempt to improve the performance of your model.\n",
    "\n",
    "## Part (c) Short Answer Questions\n",
    "\n",
    "  1. Choose two parameters unique the CNN model, perform at least 10 runs with different combinations of values for these parameters, and then report the dev set results below. ***Hint: Consider wrapping the training code above in a for loop the examines the different values.***  To do this efficiently, you should consider [this paper](http://www.jmlr.org/papers/volume13/bergstra12a/bergstra12a.pdf) from Bergstra and Bengio.  [This blog post](https://blog.floydhub.com/guide-to-hyperparameters-search-for-deep-learning-models/) also has a less formal treatment of the same topic.\n",
    "  2. Describe any trends you see in experiments above (e.g., can you identify good ranges for the individual parameters; are there any interesting interactions?)\n",
    "  3. Pick the three best configurations according to the dev set and evaluate them on the test data. Is the ranking of the three best models the same on the dev and test sets?\n",
    "  4. What was the best accuracy you achieved on the test set?"
   ]
  },
  {
   "cell_type": "code",
   "execution_count": 231,
   "metadata": {},
   "outputs": [],
   "source": [
    "def make_model(num_filters=[2, 2, 2], kernel_sizes=[2, 3, 4], dense_layer_dims=[10, 4], dropout_rate=0.7):\n",
    "    # Specify model hyperparameters.\n",
    "    embed_dim = 5\n",
    "    num_classes = len(ds.target_names)\n",
    "    max_len = 40\n",
    "\n",
    "    # Construct the convolutional neural network.\n",
    "    # The form of each keras layer function is as follows:\n",
    "    #    result = keras.layers.LayerType(arguments for the layer)(layer(s) it should use as input)\n",
    "    # concretely,\n",
    "    #    this_layer_output = keras.layers.Dense(100, activation='relu')(prev_layer_vector)\n",
    "    # performs this_layer_output = relu(prev_layer_vector x W + b) where W has 100 columns.\n",
    "\n",
    "    # Input is a special \"layer\".  It defines a placeholder that will be overwritten by the training data.\n",
    "    # In our case, we are accepting a list of wordids (padded out to max_len).\n",
    "    wordids = keras.layers.Input(shape=(max_len,))\n",
    "\n",
    "    # Embed the wordids.\n",
    "    # Recall, this is just a mathematically equivalent operation to a linear layer and a one-hot\n",
    "    h = keras.layers.Embedding(ds.vocab.size, embed_dim, input_length=max_len)(wordids)\n",
    "\n",
    "    # Construct \"filters\" randomly initialized filters with dimension \"kernel_size\" for each size of filter we want.\n",
    "    # With the default hyperparameters, we construct 2 filters each of size 2, 3, 4.  As in the image above, each filter\n",
    "    # is wide enough to span the whole word embedding (this is why the convolution is \"1d\" as seen in the\n",
    "    # function name below).\n",
    "    conv_layers_for_all_kernel_sizes = []\n",
    "    for kernel_size, filters in zip(kernel_sizes, num_filters):\n",
    "        conv_layer = keras.layers.Conv1D(filters=filters, kernel_size=kernel_size, activation='relu')(h)\n",
    "        conv_layer = keras.layers.GlobalMaxPooling1D()(conv_layer)\n",
    "        conv_layers_for_all_kernel_sizes.append(conv_layer)\n",
    "\n",
    "    # Concat the feature maps from each different size.\n",
    "    h = keras.layers.concatenate(conv_layers_for_all_kernel_sizes, axis=1)\n",
    "\n",
    "    # Dropout can help with overfitting (improve generalization) by randomly 0-ing different subsets of values\n",
    "    # in the vector.\n",
    "    # See https://www.cs.toronto.edu/~hinton/absps/JMLRdropout.pdf for details.\n",
    "    h = keras.layers.Dropout(rate=dropout_rate)(h)\n",
    "\n",
    "    ### YOUR CODE HERE\n",
    "    # Add a fully connected layer for each dense layer dimension in dense_layer_dims.\n",
    "\n",
    "    for dense_layer_dim in dense_layer_dims:\n",
    "        h = keras.layers.Dense(dense_layer_dim, activation=\"relu\")(h)\n",
    "\n",
    "    ### END YOUR CODE\n",
    "\n",
    "    prediction = keras.layers.Dense(num_classes, activation='softmax')(h)\n",
    "\n",
    "    model = keras.Model(inputs=wordids, outputs=prediction)\n",
    "    model.compile(optimizer='adam',\n",
    "                  loss='sparse_categorical_crossentropy',  # From information theory notebooks.\n",
    "                  metrics=['accuracy'])        # What metric to output as we train.\n",
    "    return model\n"
   ]
  },
  {
   "cell_type": "code",
   "execution_count": 338,
   "metadata": {},
   "outputs": [],
   "source": [
    "def hp_search(kernel_type=1):\n",
    "    num_iter = 10\n",
    "    models = []\n",
    "    dev_metrics = []\n",
    "    hyper_params = {\"num_filters\": [], \"kernel_sizes\": []}\n",
    "    for i in range(num_iter):\n",
    "        #np.random.seed(seed)\n",
    "        num_filters = np.random.randint(5, 25, size=kernel_type)\n",
    "        kernel_sizes = np.random.randint(4, 20, size=kernel_type)\n",
    "        hyper_param = {\"num_filters\": num_filters.tolist(), \"kernel_sizes\": kernel_sizes.tolist()}\n",
    "        hyper_params[\"num_filters\"] = np.append(hyper_params[\"num_filters\"], num_filters)\n",
    "        hyper_params[\"kernel_sizes\"] = np.append(hyper_params[\"kernel_sizes\"], kernel_sizes)\n",
    "        model = make_model(**hyper_param)\n",
    "        print(f\"Iteration {i+1}: \\n{num_filters} filters, {kernel_sizes} kernel size\")\n",
    "        model.fit(train_x, train_y, epochs=10, verbose=0)\n",
    "        models.append(model)\n",
    "        dev_accuracy = model.evaluate(dev_x, dev_y, verbose=0)[1]\n",
    "        print(f\"Dev accuracy: {dev_accuracy}\")\n",
    "        dev_metrics.append(dev_accuracy)\n",
    "    print(dev_accuracy)\n",
    "    return models, dev_metrics, hyper_params\n",
    "\n",
    "def evaluate_test(models, dev_metrics):\n",
    "    # highest_dev = np.argsort(dev_metrics)[::-1][:3]\n",
    "    test_metrics = []\n",
    "    dev_h = np.array(dev_metrics)\n",
    "    for i in range(len(dev_metrics)):\n",
    "        test_metric = models[i].evaluate(test_x, test_y, verbose=0)[1]\n",
    "        test_metrics.append(test_metric)\n",
    "    return test_metrics"
   ]
  },
  {
   "cell_type": "code",
   "execution_count": 339,
   "metadata": {
    "tags": []
   },
   "outputs": [
    {
     "name": "stdout",
     "output_type": "stream",
     "text": [
      "Iteration 1: \n",
      "[8] filters, [8] kernel size\n"
     ]
    },
    {
     "name": "stderr",
     "output_type": "stream",
     "text": [
      "2022-02-13 16:35:09.552068: I tensorflow/core/grappler/optimizers/custom_graph_optimizer_registry.cc:112] Plugin optimizer for device_type GPU is enabled.\n",
      "2022-02-13 16:36:10.555144: I tensorflow/core/grappler/optimizers/custom_graph_optimizer_registry.cc:112] Plugin optimizer for device_type GPU is enabled.\n"
     ]
    },
    {
     "name": "stdout",
     "output_type": "stream",
     "text": [
      "Dev accuracy: 0.7144495844841003\n",
      "Iteration 2: \n",
      "[22] filters, [15] kernel size\n"
     ]
    },
    {
     "name": "stderr",
     "output_type": "stream",
     "text": [
      "2022-02-13 16:36:11.376509: I tensorflow/core/grappler/optimizers/custom_graph_optimizer_registry.cc:112] Plugin optimizer for device_type GPU is enabled.\n",
      "2022-02-13 16:37:13.025087: I tensorflow/core/grappler/optimizers/custom_graph_optimizer_registry.cc:112] Plugin optimizer for device_type GPU is enabled.\n"
     ]
    },
    {
     "name": "stdout",
     "output_type": "stream",
     "text": [
      "Dev accuracy: 0.771789014339447\n",
      "Iteration 3: \n",
      "[17] filters, [14] kernel size\n"
     ]
    },
    {
     "name": "stderr",
     "output_type": "stream",
     "text": [
      "2022-02-13 16:37:13.830561: I tensorflow/core/grappler/optimizers/custom_graph_optimizer_registry.cc:112] Plugin optimizer for device_type GPU is enabled.\n",
      "2022-02-13 16:38:16.082991: I tensorflow/core/grappler/optimizers/custom_graph_optimizer_registry.cc:112] Plugin optimizer for device_type GPU is enabled.\n"
     ]
    },
    {
     "name": "stdout",
     "output_type": "stream",
     "text": [
      "Dev accuracy: 0.7534404397010803\n",
      "Iteration 4: \n",
      "[21] filters, [17] kernel size\n"
     ]
    },
    {
     "name": "stderr",
     "output_type": "stream",
     "text": [
      "2022-02-13 16:38:16.884423: I tensorflow/core/grappler/optimizers/custom_graph_optimizer_registry.cc:112] Plugin optimizer for device_type GPU is enabled.\n",
      "2022-02-13 16:39:20.049037: I tensorflow/core/grappler/optimizers/custom_graph_optimizer_registry.cc:112] Plugin optimizer for device_type GPU is enabled.\n"
     ]
    },
    {
     "name": "stdout",
     "output_type": "stream",
     "text": [
      "Dev accuracy: 0.7419725060462952\n",
      "Iteration 5: \n",
      "[24] filters, [13] kernel size\n"
     ]
    },
    {
     "name": "stderr",
     "output_type": "stream",
     "text": [
      "2022-02-13 16:39:20.854710: I tensorflow/core/grappler/optimizers/custom_graph_optimizer_registry.cc:112] Plugin optimizer for device_type GPU is enabled.\n",
      "2022-02-13 16:40:24.514575: I tensorflow/core/grappler/optimizers/custom_graph_optimizer_registry.cc:112] Plugin optimizer for device_type GPU is enabled.\n"
     ]
    },
    {
     "name": "stdout",
     "output_type": "stream",
     "text": [
      "Dev accuracy: 0.7568807601928711\n",
      "Iteration 6: \n",
      "[23] filters, [19] kernel size\n"
     ]
    },
    {
     "name": "stderr",
     "output_type": "stream",
     "text": [
      "2022-02-13 16:40:25.338626: I tensorflow/core/grappler/optimizers/custom_graph_optimizer_registry.cc:112] Plugin optimizer for device_type GPU is enabled.\n",
      "2022-02-13 16:41:30.058733: I tensorflow/core/grappler/optimizers/custom_graph_optimizer_registry.cc:112] Plugin optimizer for device_type GPU is enabled.\n"
     ]
    },
    {
     "name": "stdout",
     "output_type": "stream",
     "text": [
      "Dev accuracy: 0.791284441947937\n",
      "Iteration 7: \n",
      "[5] filters, [8] kernel size\n"
     ]
    },
    {
     "name": "stderr",
     "output_type": "stream",
     "text": [
      "2022-02-13 16:41:30.848601: I tensorflow/core/grappler/optimizers/custom_graph_optimizer_registry.cc:112] Plugin optimizer for device_type GPU is enabled.\n",
      "2022-02-13 16:42:38.744905: I tensorflow/core/grappler/optimizers/custom_graph_optimizer_registry.cc:112] Plugin optimizer for device_type GPU is enabled.\n"
     ]
    },
    {
     "name": "stdout",
     "output_type": "stream",
     "text": [
      "Dev accuracy: 0.6697248220443726\n",
      "Iteration 8: \n",
      "[20] filters, [6] kernel size\n"
     ]
    },
    {
     "name": "stderr",
     "output_type": "stream",
     "text": [
      "2022-02-13 16:42:39.616645: I tensorflow/core/grappler/optimizers/custom_graph_optimizer_registry.cc:112] Plugin optimizer for device_type GPU is enabled.\n",
      "2022-02-13 16:43:47.917102: I tensorflow/core/grappler/optimizers/custom_graph_optimizer_registry.cc:112] Plugin optimizer for device_type GPU is enabled.\n"
     ]
    },
    {
     "name": "stdout",
     "output_type": "stream",
     "text": [
      "Dev accuracy: 0.7557339668273926\n",
      "Iteration 9: \n",
      "[12] filters, [14] kernel size\n"
     ]
    },
    {
     "name": "stderr",
     "output_type": "stream",
     "text": [
      "2022-02-13 16:43:48.887262: I tensorflow/core/grappler/optimizers/custom_graph_optimizer_registry.cc:112] Plugin optimizer for device_type GPU is enabled.\n",
      "2022-02-13 16:44:54.245449: I tensorflow/core/grappler/optimizers/custom_graph_optimizer_registry.cc:112] Plugin optimizer for device_type GPU is enabled.\n"
     ]
    },
    {
     "name": "stdout",
     "output_type": "stream",
     "text": [
      "Dev accuracy: 0.7270642518997192\n",
      "Iteration 10: \n",
      "[13] filters, [10] kernel size\n"
     ]
    },
    {
     "name": "stderr",
     "output_type": "stream",
     "text": [
      "2022-02-13 16:44:55.058954: I tensorflow/core/grappler/optimizers/custom_graph_optimizer_registry.cc:112] Plugin optimizer for device_type GPU is enabled.\n",
      "2022-02-13 16:45:59.647544: I tensorflow/core/grappler/optimizers/custom_graph_optimizer_registry.cc:112] Plugin optimizer for device_type GPU is enabled.\n"
     ]
    },
    {
     "name": "stdout",
     "output_type": "stream",
     "text": [
      "Dev accuracy: 0.7431192994117737\n",
      "0.7431192994117737\n"
     ]
    }
   ],
   "source": [
    "models, dev_metrics, hyper_params = hp_search()"
   ]
  },
  {
   "cell_type": "code",
   "execution_count": 343,
   "metadata": {},
   "outputs": [
    {
     "name": "stdout",
     "output_type": "stream",
     "text": [
      "{'num_filters': 23.0, 'kernel_sizes': 19.0} dev accuracy: 0.791284441947937\n",
      "{'num_filters': 22.0, 'kernel_sizes': 15.0} dev accuracy: 0.771789014339447\n",
      "{'num_filters': 24.0, 'kernel_sizes': 13.0} dev accuracy: 0.7568807601928711\n",
      "{'num_filters': 20.0, 'kernel_sizes': 6.0} dev accuracy: 0.7557339668273926\n",
      "{'num_filters': 17.0, 'kernel_sizes': 14.0} dev accuracy: 0.7534404397010803\n",
      "{'num_filters': 13.0, 'kernel_sizes': 10.0} dev accuracy: 0.7431192994117737\n",
      "{'num_filters': 21.0, 'kernel_sizes': 17.0} dev accuracy: 0.7419725060462952\n",
      "{'num_filters': 12.0, 'kernel_sizes': 14.0} dev accuracy: 0.7270642518997192\n",
      "{'num_filters': 8.0, 'kernel_sizes': 8.0} dev accuracy: 0.7144495844841003\n",
      "{'num_filters': 5.0, 'kernel_sizes': 8.0} dev accuracy: 0.6697248220443726\n"
     ]
    }
   ],
   "source": [
    "indices = np.argsort(dev_metrics)[::-1]\n",
    "for i in indices:\n",
    "    print({k: v[i] for k, v in zip(hyper_params.keys(), hyper_params.values())}, \"dev accuracy:\", dev_metrics[i])"
   ]
  },
  {
   "cell_type": "code",
   "execution_count": 340,
   "metadata": {},
   "outputs": [
    {
     "data": {
      "text/html": [
       "\n",
       "<div id=\"altair-viz-1dde40de3b594d38a8c8742b5035988c\"></div>\n",
       "<script type=\"text/javascript\">\n",
       "  var VEGA_DEBUG = (typeof VEGA_DEBUG == \"undefined\") ? {} : VEGA_DEBUG;\n",
       "  (function(spec, embedOpt){\n",
       "    let outputDiv = document.currentScript.previousElementSibling;\n",
       "    if (outputDiv.id !== \"altair-viz-1dde40de3b594d38a8c8742b5035988c\") {\n",
       "      outputDiv = document.getElementById(\"altair-viz-1dde40de3b594d38a8c8742b5035988c\");\n",
       "    }\n",
       "    const paths = {\n",
       "      \"vega\": \"https://cdn.jsdelivr.net/npm//vega@5?noext\",\n",
       "      \"vega-lib\": \"https://cdn.jsdelivr.net/npm//vega-lib?noext\",\n",
       "      \"vega-lite\": \"https://cdn.jsdelivr.net/npm//vega-lite@4.17.0?noext\",\n",
       "      \"vega-embed\": \"https://cdn.jsdelivr.net/npm//vega-embed@6?noext\",\n",
       "    };\n",
       "\n",
       "    function maybeLoadScript(lib, version) {\n",
       "      var key = `${lib.replace(\"-\", \"\")}_version`;\n",
       "      return (VEGA_DEBUG[key] == version) ?\n",
       "        Promise.resolve(paths[lib]) :\n",
       "        new Promise(function(resolve, reject) {\n",
       "          var s = document.createElement('script');\n",
       "          document.getElementsByTagName(\"head\")[0].appendChild(s);\n",
       "          s.async = true;\n",
       "          s.onload = () => {\n",
       "            VEGA_DEBUG[key] = version;\n",
       "            return resolve(paths[lib]);\n",
       "          };\n",
       "          s.onerror = () => reject(`Error loading script: ${paths[lib]}`);\n",
       "          s.src = paths[lib];\n",
       "        });\n",
       "    }\n",
       "\n",
       "    function showError(err) {\n",
       "      outputDiv.innerHTML = `<div class=\"error\" style=\"color:red;\">${err}</div>`;\n",
       "      throw err;\n",
       "    }\n",
       "\n",
       "    function displayChart(vegaEmbed) {\n",
       "      vegaEmbed(outputDiv, spec, embedOpt)\n",
       "        .catch(err => showError(`Javascript Error: ${err.message}<br>This usually means there's a typo in your chart specification. See the javascript console for the full traceback.`));\n",
       "    }\n",
       "\n",
       "    if(typeof define === \"function\" && define.amd) {\n",
       "      requirejs.config({paths});\n",
       "      require([\"vega-embed\"], displayChart, err => showError(`Error loading script: ${err.message}`));\n",
       "    } else {\n",
       "      maybeLoadScript(\"vega\", \"5\")\n",
       "        .then(() => maybeLoadScript(\"vega-lite\", \"4.17.0\"))\n",
       "        .then(() => maybeLoadScript(\"vega-embed\", \"6\"))\n",
       "        .catch(showError)\n",
       "        .then(() => displayChart(vegaEmbed));\n",
       "    }\n",
       "  })({\"config\": {\"view\": {\"continuousWidth\": 400, \"continuousHeight\": 300}}, \"data\": {\"name\": \"data-5a9df6f67796f126662e156d31fb6bde\"}, \"mark\": {\"type\": \"circle\", \"size\": 150}, \"encoding\": {\"color\": {\"field\": \"dev_acc\", \"type\": \"quantitative\"}, \"x\": {\"field\": \"num_filters\", \"type\": \"quantitative\"}, \"y\": {\"field\": \"kernel_sizes\", \"type\": \"quantitative\"}}, \"$schema\": \"https://vega.github.io/schema/vega-lite/v4.17.0.json\", \"datasets\": {\"data-5a9df6f67796f126662e156d31fb6bde\": [{\"num_filters\": 8.0, \"kernel_sizes\": 8.0, \"dev_acc\": 0.7144495844841003, \"test_acc\": 0.722679853439331}, {\"num_filters\": 22.0, \"kernel_sizes\": 15.0, \"dev_acc\": 0.771789014339447, \"test_acc\": 0.7677100300788879}, {\"num_filters\": 17.0, \"kernel_sizes\": 14.0, \"dev_acc\": 0.7534404397010803, \"test_acc\": 0.7473915815353394}, {\"num_filters\": 21.0, \"kernel_sizes\": 17.0, \"dev_acc\": 0.7419725060462952, \"test_acc\": 0.747940719127655}, {\"num_filters\": 24.0, \"kernel_sizes\": 13.0, \"dev_acc\": 0.7568807601928711, \"test_acc\": 0.774848997592926}, {\"num_filters\": 23.0, \"kernel_sizes\": 19.0, \"dev_acc\": 0.791284441947937, \"test_acc\": 0.7742998600006104}, {\"num_filters\": 5.0, \"kernel_sizes\": 8.0, \"dev_acc\": 0.6697248220443726, \"test_acc\": 0.6688632965087891}, {\"num_filters\": 20.0, \"kernel_sizes\": 6.0, \"dev_acc\": 0.7557339668273926, \"test_acc\": 0.7611202597618103}, {\"num_filters\": 12.0, \"kernel_sizes\": 14.0, \"dev_acc\": 0.7270642518997192, \"test_acc\": 0.734761118888855}, {\"num_filters\": 13.0, \"kernel_sizes\": 10.0, \"dev_acc\": 0.7431192994117737, \"test_acc\": 0.7342119812965393}]}}, {\"mode\": \"vega-lite\"});\n",
       "</script>"
      ],
      "text/plain": [
       "alt.Chart(...)"
      ]
     },
     "execution_count": 340,
     "metadata": {},
     "output_type": "execute_result"
    }
   ],
   "source": [
    "import altair as alt\n",
    "test_acc = evaluate_test(models, dev_metrics)\n",
    "data = pd.DataFrame(hyper_params)\n",
    "data[\"dev_acc\"] = dev_metrics\n",
    "data[\"test_acc\"] = test_acc\n",
    "alt.Chart(data).mark_circle(size=150).encode(\n",
    "    x='num_filters',\n",
    "    y='kernel_sizes',\n",
    "    color='dev_acc')"
   ]
  },
  {
   "cell_type": "code",
   "execution_count": 344,
   "metadata": {},
   "outputs": [
    {
     "data": {
      "text/html": [
       "\n",
       "<div id=\"altair-viz-42cb0c9e859b4026b793d21fc1fde418\"></div>\n",
       "<script type=\"text/javascript\">\n",
       "  var VEGA_DEBUG = (typeof VEGA_DEBUG == \"undefined\") ? {} : VEGA_DEBUG;\n",
       "  (function(spec, embedOpt){\n",
       "    let outputDiv = document.currentScript.previousElementSibling;\n",
       "    if (outputDiv.id !== \"altair-viz-42cb0c9e859b4026b793d21fc1fde418\") {\n",
       "      outputDiv = document.getElementById(\"altair-viz-42cb0c9e859b4026b793d21fc1fde418\");\n",
       "    }\n",
       "    const paths = {\n",
       "      \"vega\": \"https://cdn.jsdelivr.net/npm//vega@5?noext\",\n",
       "      \"vega-lib\": \"https://cdn.jsdelivr.net/npm//vega-lib?noext\",\n",
       "      \"vega-lite\": \"https://cdn.jsdelivr.net/npm//vega-lite@4.17.0?noext\",\n",
       "      \"vega-embed\": \"https://cdn.jsdelivr.net/npm//vega-embed@6?noext\",\n",
       "    };\n",
       "\n",
       "    function maybeLoadScript(lib, version) {\n",
       "      var key = `${lib.replace(\"-\", \"\")}_version`;\n",
       "      return (VEGA_DEBUG[key] == version) ?\n",
       "        Promise.resolve(paths[lib]) :\n",
       "        new Promise(function(resolve, reject) {\n",
       "          var s = document.createElement('script');\n",
       "          document.getElementsByTagName(\"head\")[0].appendChild(s);\n",
       "          s.async = true;\n",
       "          s.onload = () => {\n",
       "            VEGA_DEBUG[key] = version;\n",
       "            return resolve(paths[lib]);\n",
       "          };\n",
       "          s.onerror = () => reject(`Error loading script: ${paths[lib]}`);\n",
       "          s.src = paths[lib];\n",
       "        });\n",
       "    }\n",
       "\n",
       "    function showError(err) {\n",
       "      outputDiv.innerHTML = `<div class=\"error\" style=\"color:red;\">${err}</div>`;\n",
       "      throw err;\n",
       "    }\n",
       "\n",
       "    function displayChart(vegaEmbed) {\n",
       "      vegaEmbed(outputDiv, spec, embedOpt)\n",
       "        .catch(err => showError(`Javascript Error: ${err.message}<br>This usually means there's a typo in your chart specification. See the javascript console for the full traceback.`));\n",
       "    }\n",
       "\n",
       "    if(typeof define === \"function\" && define.amd) {\n",
       "      requirejs.config({paths});\n",
       "      require([\"vega-embed\"], displayChart, err => showError(`Error loading script: ${err.message}`));\n",
       "    } else {\n",
       "      maybeLoadScript(\"vega\", \"5\")\n",
       "        .then(() => maybeLoadScript(\"vega-lite\", \"4.17.0\"))\n",
       "        .then(() => maybeLoadScript(\"vega-embed\", \"6\"))\n",
       "        .catch(showError)\n",
       "        .then(() => displayChart(vegaEmbed));\n",
       "    }\n",
       "  })({\"config\": {\"view\": {\"continuousWidth\": 400, \"continuousHeight\": 300}}, \"vconcat\": [{\"mark\": {\"type\": \"line\", \"point\": {\"color\": \"red\"}}, \"encoding\": {\"x\": {\"field\": \"num_filters\", \"type\": \"quantitative\"}, \"y\": {\"field\": \"dev_acc\", \"type\": \"quantitative\"}}}, {\"mark\": {\"type\": \"line\", \"point\": {\"color\": \"red\"}}, \"encoding\": {\"x\": {\"field\": \"kernel_sizes\", \"type\": \"quantitative\"}, \"y\": {\"field\": \"dev_acc\", \"type\": \"quantitative\"}}}], \"data\": {\"name\": \"data-5a9df6f67796f126662e156d31fb6bde\"}, \"$schema\": \"https://vega.github.io/schema/vega-lite/v4.17.0.json\", \"datasets\": {\"data-5a9df6f67796f126662e156d31fb6bde\": [{\"num_filters\": 8.0, \"kernel_sizes\": 8.0, \"dev_acc\": 0.7144495844841003, \"test_acc\": 0.722679853439331}, {\"num_filters\": 22.0, \"kernel_sizes\": 15.0, \"dev_acc\": 0.771789014339447, \"test_acc\": 0.7677100300788879}, {\"num_filters\": 17.0, \"kernel_sizes\": 14.0, \"dev_acc\": 0.7534404397010803, \"test_acc\": 0.7473915815353394}, {\"num_filters\": 21.0, \"kernel_sizes\": 17.0, \"dev_acc\": 0.7419725060462952, \"test_acc\": 0.747940719127655}, {\"num_filters\": 24.0, \"kernel_sizes\": 13.0, \"dev_acc\": 0.7568807601928711, \"test_acc\": 0.774848997592926}, {\"num_filters\": 23.0, \"kernel_sizes\": 19.0, \"dev_acc\": 0.791284441947937, \"test_acc\": 0.7742998600006104}, {\"num_filters\": 5.0, \"kernel_sizes\": 8.0, \"dev_acc\": 0.6697248220443726, \"test_acc\": 0.6688632965087891}, {\"num_filters\": 20.0, \"kernel_sizes\": 6.0, \"dev_acc\": 0.7557339668273926, \"test_acc\": 0.7611202597618103}, {\"num_filters\": 12.0, \"kernel_sizes\": 14.0, \"dev_acc\": 0.7270642518997192, \"test_acc\": 0.734761118888855}, {\"num_filters\": 13.0, \"kernel_sizes\": 10.0, \"dev_acc\": 0.7431192994117737, \"test_acc\": 0.7342119812965393}]}}, {\"mode\": \"vega-lite\"});\n",
       "</script>"
      ],
      "text/plain": [
       "alt.VConcatChart(...)"
      ]
     },
     "execution_count": 344,
     "metadata": {},
     "output_type": "execute_result"
    }
   ],
   "source": [
    "chart1 = alt.Chart(data).mark_line(point=alt.OverlayMarkDef(color=\"red\")).encode(\n",
    "    x='num_filters',\n",
    "    y='dev_acc')\n",
    "chart2 = alt.Chart(data).mark_line(point=alt.OverlayMarkDef(color=\"red\")).encode(\n",
    "    x='kernel_sizes',\n",
    "    y='dev_acc')\n",
    "chart1 & chart2"
   ]
  },
  {
   "cell_type": "code",
   "execution_count": 345,
   "metadata": {},
   "outputs": [
    {
     "data": {
      "text/html": [
       "<div>\n",
       "<style scoped>\n",
       "    .dataframe tbody tr th:only-of-type {\n",
       "        vertical-align: middle;\n",
       "    }\n",
       "\n",
       "    .dataframe tbody tr th {\n",
       "        vertical-align: top;\n",
       "    }\n",
       "\n",
       "    .dataframe thead th {\n",
       "        text-align: right;\n",
       "    }\n",
       "</style>\n",
       "<table border=\"1\" class=\"dataframe\">\n",
       "  <thead>\n",
       "    <tr style=\"text-align: right;\">\n",
       "      <th></th>\n",
       "      <th>num_filters</th>\n",
       "      <th>kernel_sizes</th>\n",
       "      <th>dev_acc</th>\n",
       "      <th>test_acc</th>\n",
       "    </tr>\n",
       "  </thead>\n",
       "  <tbody>\n",
       "    <tr>\n",
       "      <th>5</th>\n",
       "      <td>23.0</td>\n",
       "      <td>19.0</td>\n",
       "      <td>0.791284</td>\n",
       "      <td>0.774300</td>\n",
       "    </tr>\n",
       "    <tr>\n",
       "      <th>1</th>\n",
       "      <td>22.0</td>\n",
       "      <td>15.0</td>\n",
       "      <td>0.771789</td>\n",
       "      <td>0.767710</td>\n",
       "    </tr>\n",
       "    <tr>\n",
       "      <th>4</th>\n",
       "      <td>24.0</td>\n",
       "      <td>13.0</td>\n",
       "      <td>0.756881</td>\n",
       "      <td>0.774849</td>\n",
       "    </tr>\n",
       "  </tbody>\n",
       "</table>\n",
       "</div>"
      ],
      "text/plain": [
       "   num_filters  kernel_sizes   dev_acc  test_acc\n",
       "5         23.0          19.0  0.791284  0.774300\n",
       "1         22.0          15.0  0.771789  0.767710\n",
       "4         24.0          13.0  0.756881  0.774849"
      ]
     },
     "execution_count": 345,
     "metadata": {},
     "output_type": "execute_result"
    }
   ],
   "source": [
    "data.nlargest(3, 'dev_acc')"
   ]
  },
  {
   "cell_type": "code",
   "execution_count": null,
   "metadata": {},
   "outputs": [],
   "source": []
  }
 ],
 "metadata": {
  "kernelspec": {
   "display_name": "Python 3 (ipykernel)",
   "language": "python",
   "name": "python3"
  },
  "language_info": {
   "codemirror_mode": {
    "name": "ipython",
    "version": 3
   },
   "file_extension": ".py",
   "mimetype": "text/x-python",
   "name": "python",
   "nbconvert_exporter": "python",
   "pygments_lexer": "ipython3",
   "version": "3.9.9"
  }
 },
 "nbformat": 4,
 "nbformat_minor": 4
}
